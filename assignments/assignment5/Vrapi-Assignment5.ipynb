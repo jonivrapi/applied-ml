{
 "cells": [
  {
   "cell_type": "markdown",
   "id": "acfefd0e",
   "metadata": {},
   "source": [
    "# Assignment 5"
   ]
  },
  {
   "cell_type": "code",
   "execution_count": 1,
   "id": "8d72abcb",
   "metadata": {},
   "outputs": [],
   "source": [
    "%matplotlib inline\n",
    "import matplotlib.pyplot as plt\n",
    "plt.rcParams[\"figure.dpi\"] = 72\n",
    "\n",
    "import pandas as pd\n",
    "import numpy as np\n",
    "import seaborn as sns\n",
    "import random\n",
    "\n",
    "\n",
    "from sklearn.ensemble import RandomForestClassifier\n",
    "from sklearn.model_selection import train_test_split\n",
    "from sklearn.metrics import accuracy_score\n",
    "from sklearn.svm import SVC\n",
    "from sklearn.model_selection import StratifiedKFold\n",
    "from sklearn.naive_bayes import GaussianNB\n",
    "from sklearn.neural_network import MLPClassifier\n",
    "from sklearn.tree import DecisionTreeClassifier\n",
    "from sklearn.preprocessing import OrdinalEncoder\n",
    "from sklearn.model_selection import cross_val_score\n",
    "from sklearn.base import clone"
   ]
  },
  {
   "cell_type": "code",
   "execution_count": 2,
   "id": "38154c2b",
   "metadata": {},
   "outputs": [
    {
     "data": {
      "text/html": [
       "<div>\n",
       "<style scoped>\n",
       "    .dataframe tbody tr th:only-of-type {\n",
       "        vertical-align: middle;\n",
       "    }\n",
       "\n",
       "    .dataframe tbody tr th {\n",
       "        vertical-align: top;\n",
       "    }\n",
       "\n",
       "    .dataframe thead th {\n",
       "        text-align: right;\n",
       "    }\n",
       "</style>\n",
       "<table border=\"1\" class=\"dataframe\">\n",
       "  <thead>\n",
       "    <tr style=\"text-align: right;\">\n",
       "      <th></th>\n",
       "      <th>Age</th>\n",
       "      <th>Sex</th>\n",
       "      <th>ChestPainType</th>\n",
       "      <th>RestingBP</th>\n",
       "      <th>Cholesterol</th>\n",
       "      <th>FastingBS</th>\n",
       "      <th>RestingECG</th>\n",
       "      <th>MaxHR</th>\n",
       "      <th>ExerciseAngina</th>\n",
       "      <th>Oldpeak</th>\n",
       "      <th>ST_Slope</th>\n",
       "      <th>HeartDisease</th>\n",
       "    </tr>\n",
       "  </thead>\n",
       "  <tbody>\n",
       "    <tr>\n",
       "      <th>0</th>\n",
       "      <td>40</td>\n",
       "      <td>M</td>\n",
       "      <td>ATA</td>\n",
       "      <td>140</td>\n",
       "      <td>289</td>\n",
       "      <td>0</td>\n",
       "      <td>Normal</td>\n",
       "      <td>172</td>\n",
       "      <td>N</td>\n",
       "      <td>0.0</td>\n",
       "      <td>Up</td>\n",
       "      <td>0</td>\n",
       "    </tr>\n",
       "    <tr>\n",
       "      <th>1</th>\n",
       "      <td>49</td>\n",
       "      <td>F</td>\n",
       "      <td>NAP</td>\n",
       "      <td>160</td>\n",
       "      <td>180</td>\n",
       "      <td>0</td>\n",
       "      <td>Normal</td>\n",
       "      <td>156</td>\n",
       "      <td>N</td>\n",
       "      <td>1.0</td>\n",
       "      <td>Flat</td>\n",
       "      <td>1</td>\n",
       "    </tr>\n",
       "    <tr>\n",
       "      <th>2</th>\n",
       "      <td>37</td>\n",
       "      <td>M</td>\n",
       "      <td>ATA</td>\n",
       "      <td>130</td>\n",
       "      <td>283</td>\n",
       "      <td>0</td>\n",
       "      <td>ST</td>\n",
       "      <td>98</td>\n",
       "      <td>N</td>\n",
       "      <td>0.0</td>\n",
       "      <td>Up</td>\n",
       "      <td>0</td>\n",
       "    </tr>\n",
       "    <tr>\n",
       "      <th>3</th>\n",
       "      <td>48</td>\n",
       "      <td>F</td>\n",
       "      <td>ASY</td>\n",
       "      <td>138</td>\n",
       "      <td>214</td>\n",
       "      <td>0</td>\n",
       "      <td>Normal</td>\n",
       "      <td>108</td>\n",
       "      <td>Y</td>\n",
       "      <td>1.5</td>\n",
       "      <td>Flat</td>\n",
       "      <td>1</td>\n",
       "    </tr>\n",
       "    <tr>\n",
       "      <th>4</th>\n",
       "      <td>54</td>\n",
       "      <td>M</td>\n",
       "      <td>NAP</td>\n",
       "      <td>150</td>\n",
       "      <td>195</td>\n",
       "      <td>0</td>\n",
       "      <td>Normal</td>\n",
       "      <td>122</td>\n",
       "      <td>N</td>\n",
       "      <td>0.0</td>\n",
       "      <td>Up</td>\n",
       "      <td>0</td>\n",
       "    </tr>\n",
       "  </tbody>\n",
       "</table>\n",
       "</div>"
      ],
      "text/plain": [
       "   Age Sex ChestPainType  RestingBP  Cholesterol  FastingBS RestingECG  MaxHR  \\\n",
       "0   40   M           ATA        140          289          0     Normal    172   \n",
       "1   49   F           NAP        160          180          0     Normal    156   \n",
       "2   37   M           ATA        130          283          0         ST     98   \n",
       "3   48   F           ASY        138          214          0     Normal    108   \n",
       "4   54   M           NAP        150          195          0     Normal    122   \n",
       "\n",
       "  ExerciseAngina  Oldpeak ST_Slope  HeartDisease  \n",
       "0              N      0.0       Up             0  \n",
       "1              N      1.0     Flat             1  \n",
       "2              N      0.0       Up             0  \n",
       "3              Y      1.5     Flat             1  \n",
       "4              N      0.0       Up             0  "
      ]
     },
     "execution_count": 2,
     "metadata": {},
     "output_type": "execute_result"
    }
   ],
   "source": [
    "df = pd.read_csv(\"./heart_dataset.csv\")\n",
    "df.head()"
   ]
  },
  {
   "cell_type": "code",
   "execution_count": 3,
   "id": "90998220",
   "metadata": {},
   "outputs": [
    {
     "data": {
      "text/plain": [
       "array(['ATA', 'NAP', 'ASY', 'TA'], dtype=object)"
      ]
     },
     "execution_count": 3,
     "metadata": {},
     "output_type": "execute_result"
    }
   ],
   "source": [
    "df['ChestPainType'].unique()"
   ]
  },
  {
   "cell_type": "code",
   "execution_count": 4,
   "id": "5df3f56d",
   "metadata": {},
   "outputs": [
    {
     "data": {
      "text/plain": [
       "array(['Normal', 'ST', 'LVH'], dtype=object)"
      ]
     },
     "execution_count": 4,
     "metadata": {},
     "output_type": "execute_result"
    }
   ],
   "source": [
    "df['RestingECG'].unique()"
   ]
  },
  {
   "cell_type": "code",
   "execution_count": 5,
   "id": "4c73b400",
   "metadata": {},
   "outputs": [
    {
     "data": {
      "text/plain": [
       "array(['Up', 'Flat', 'Down'], dtype=object)"
      ]
     },
     "execution_count": 5,
     "metadata": {},
     "output_type": "execute_result"
    }
   ],
   "source": [
    "df['ST_Slope'].unique()"
   ]
  },
  {
   "cell_type": "code",
   "execution_count": 6,
   "id": "19578d52",
   "metadata": {},
   "outputs": [
    {
     "name": "stdout",
     "output_type": "stream",
     "text": [
      "<class 'pandas.core.frame.DataFrame'>\n",
      "RangeIndex: 918 entries, 0 to 917\n",
      "Data columns (total 12 columns):\n",
      " #   Column          Non-Null Count  Dtype  \n",
      "---  ------          --------------  -----  \n",
      " 0   Age             918 non-null    int64  \n",
      " 1   Sex             918 non-null    object \n",
      " 2   ChestPainType   918 non-null    object \n",
      " 3   RestingBP       918 non-null    int64  \n",
      " 4   Cholesterol     918 non-null    int64  \n",
      " 5   FastingBS       918 non-null    int64  \n",
      " 6   RestingECG      918 non-null    object \n",
      " 7   MaxHR           918 non-null    int64  \n",
      " 8   ExerciseAngina  918 non-null    object \n",
      " 9   Oldpeak         918 non-null    float64\n",
      " 10  ST_Slope        918 non-null    object \n",
      " 11  HeartDisease    918 non-null    int64  \n",
      "dtypes: float64(1), int64(6), object(5)\n",
      "memory usage: 86.2+ KB\n"
     ]
    }
   ],
   "source": [
    "df.info()"
   ]
  },
  {
   "cell_type": "code",
   "execution_count": 7,
   "id": "fe90be11",
   "metadata": {},
   "outputs": [],
   "source": [
    "# One-hot encoding these 4 columns\n",
    "columns_to_encode = ['RestingECG', 'ChestPainType', \"ExerciseAngina\", \"Sex\"]\n",
    "df = pd.get_dummies(df, columns=columns_to_encode)"
   ]
  },
  {
   "cell_type": "code",
   "execution_count": 8,
   "id": "74f256fd",
   "metadata": {
    "scrolled": true
   },
   "outputs": [
    {
     "data": {
      "text/html": [
       "<div>\n",
       "<style scoped>\n",
       "    .dataframe tbody tr th:only-of-type {\n",
       "        vertical-align: middle;\n",
       "    }\n",
       "\n",
       "    .dataframe tbody tr th {\n",
       "        vertical-align: top;\n",
       "    }\n",
       "\n",
       "    .dataframe thead th {\n",
       "        text-align: right;\n",
       "    }\n",
       "</style>\n",
       "<table border=\"1\" class=\"dataframe\">\n",
       "  <thead>\n",
       "    <tr style=\"text-align: right;\">\n",
       "      <th></th>\n",
       "      <th>Age</th>\n",
       "      <th>RestingBP</th>\n",
       "      <th>Cholesterol</th>\n",
       "      <th>FastingBS</th>\n",
       "      <th>MaxHR</th>\n",
       "      <th>Oldpeak</th>\n",
       "      <th>ST_Slope</th>\n",
       "      <th>HeartDisease</th>\n",
       "      <th>RestingECG_LVH</th>\n",
       "      <th>RestingECG_Normal</th>\n",
       "      <th>RestingECG_ST</th>\n",
       "      <th>ChestPainType_ASY</th>\n",
       "      <th>ChestPainType_ATA</th>\n",
       "      <th>ChestPainType_NAP</th>\n",
       "      <th>ChestPainType_TA</th>\n",
       "      <th>ExerciseAngina_N</th>\n",
       "      <th>ExerciseAngina_Y</th>\n",
       "      <th>Sex_F</th>\n",
       "      <th>Sex_M</th>\n",
       "    </tr>\n",
       "  </thead>\n",
       "  <tbody>\n",
       "    <tr>\n",
       "      <th>0</th>\n",
       "      <td>40</td>\n",
       "      <td>140</td>\n",
       "      <td>289</td>\n",
       "      <td>0</td>\n",
       "      <td>172</td>\n",
       "      <td>0.0</td>\n",
       "      <td>2.0</td>\n",
       "      <td>0</td>\n",
       "      <td>0</td>\n",
       "      <td>1</td>\n",
       "      <td>0</td>\n",
       "      <td>0</td>\n",
       "      <td>1</td>\n",
       "      <td>0</td>\n",
       "      <td>0</td>\n",
       "      <td>1</td>\n",
       "      <td>0</td>\n",
       "      <td>0</td>\n",
       "      <td>1</td>\n",
       "    </tr>\n",
       "    <tr>\n",
       "      <th>1</th>\n",
       "      <td>49</td>\n",
       "      <td>160</td>\n",
       "      <td>180</td>\n",
       "      <td>0</td>\n",
       "      <td>156</td>\n",
       "      <td>1.0</td>\n",
       "      <td>1.0</td>\n",
       "      <td>1</td>\n",
       "      <td>0</td>\n",
       "      <td>1</td>\n",
       "      <td>0</td>\n",
       "      <td>0</td>\n",
       "      <td>0</td>\n",
       "      <td>1</td>\n",
       "      <td>0</td>\n",
       "      <td>1</td>\n",
       "      <td>0</td>\n",
       "      <td>1</td>\n",
       "      <td>0</td>\n",
       "    </tr>\n",
       "    <tr>\n",
       "      <th>2</th>\n",
       "      <td>37</td>\n",
       "      <td>130</td>\n",
       "      <td>283</td>\n",
       "      <td>0</td>\n",
       "      <td>98</td>\n",
       "      <td>0.0</td>\n",
       "      <td>2.0</td>\n",
       "      <td>0</td>\n",
       "      <td>0</td>\n",
       "      <td>0</td>\n",
       "      <td>1</td>\n",
       "      <td>0</td>\n",
       "      <td>1</td>\n",
       "      <td>0</td>\n",
       "      <td>0</td>\n",
       "      <td>1</td>\n",
       "      <td>0</td>\n",
       "      <td>0</td>\n",
       "      <td>1</td>\n",
       "    </tr>\n",
       "    <tr>\n",
       "      <th>3</th>\n",
       "      <td>48</td>\n",
       "      <td>138</td>\n",
       "      <td>214</td>\n",
       "      <td>0</td>\n",
       "      <td>108</td>\n",
       "      <td>1.5</td>\n",
       "      <td>1.0</td>\n",
       "      <td>1</td>\n",
       "      <td>0</td>\n",
       "      <td>1</td>\n",
       "      <td>0</td>\n",
       "      <td>1</td>\n",
       "      <td>0</td>\n",
       "      <td>0</td>\n",
       "      <td>0</td>\n",
       "      <td>0</td>\n",
       "      <td>1</td>\n",
       "      <td>1</td>\n",
       "      <td>0</td>\n",
       "    </tr>\n",
       "    <tr>\n",
       "      <th>4</th>\n",
       "      <td>54</td>\n",
       "      <td>150</td>\n",
       "      <td>195</td>\n",
       "      <td>0</td>\n",
       "      <td>122</td>\n",
       "      <td>0.0</td>\n",
       "      <td>2.0</td>\n",
       "      <td>0</td>\n",
       "      <td>0</td>\n",
       "      <td>1</td>\n",
       "      <td>0</td>\n",
       "      <td>0</td>\n",
       "      <td>0</td>\n",
       "      <td>1</td>\n",
       "      <td>0</td>\n",
       "      <td>1</td>\n",
       "      <td>0</td>\n",
       "      <td>0</td>\n",
       "      <td>1</td>\n",
       "    </tr>\n",
       "  </tbody>\n",
       "</table>\n",
       "</div>"
      ],
      "text/plain": [
       "   Age  RestingBP  Cholesterol  FastingBS  MaxHR  Oldpeak  ST_Slope  \\\n",
       "0   40        140          289          0    172      0.0       2.0   \n",
       "1   49        160          180          0    156      1.0       1.0   \n",
       "2   37        130          283          0     98      0.0       2.0   \n",
       "3   48        138          214          0    108      1.5       1.0   \n",
       "4   54        150          195          0    122      0.0       2.0   \n",
       "\n",
       "   HeartDisease  RestingECG_LVH  RestingECG_Normal  RestingECG_ST  \\\n",
       "0             0               0                  1              0   \n",
       "1             1               0                  1              0   \n",
       "2             0               0                  0              1   \n",
       "3             1               0                  1              0   \n",
       "4             0               0                  1              0   \n",
       "\n",
       "   ChestPainType_ASY  ChestPainType_ATA  ChestPainType_NAP  ChestPainType_TA  \\\n",
       "0                  0                  1                  0                 0   \n",
       "1                  0                  0                  1                 0   \n",
       "2                  0                  1                  0                 0   \n",
       "3                  1                  0                  0                 0   \n",
       "4                  0                  0                  1                 0   \n",
       "\n",
       "   ExerciseAngina_N  ExerciseAngina_Y  Sex_F  Sex_M  \n",
       "0                 1                 0      0      1  \n",
       "1                 1                 0      1      0  \n",
       "2                 1                 0      0      1  \n",
       "3                 0                 1      1      0  \n",
       "4                 1                 0      0      1  "
      ]
     },
     "execution_count": 8,
     "metadata": {},
     "output_type": "execute_result"
    }
   ],
   "source": [
    "st_order = ['Down', 'Flat', 'Up']\n",
    "# Encode this ordinally, because there is a direction here\n",
    "ordinal_encoder = OrdinalEncoder(categories=[st_order])\n",
    "\n",
    "df['ST_Slope'] = ordinal_encoder.fit_transform(df[['ST_Slope']])\n",
    "    \n",
    "df.head()"
   ]
  },
  {
   "cell_type": "code",
   "execution_count": 9,
   "id": "863e8a8f",
   "metadata": {},
   "outputs": [
    {
     "name": "stdout",
     "output_type": "stream",
     "text": [
      "Accuracy: 0.8315217391304348\n"
     ]
    }
   ],
   "source": [
    "# Sanity Check\n",
    "\n",
    "X = df.loc[:, df.columns != 'HeartDisease'].values\n",
    "y = df.loc[:, df.columns == 'HeartDisease'].values.ravel()\n",
    "\n",
    "X_train, X_test, y_train, y_test = train_test_split(X, y, test_size=0.2, random_state=42)\n",
    "\n",
    "\n",
    "gnb = GaussianNB()\n",
    "\n",
    "gnb.fit(X_train, y_train)\n",
    "\n",
    "y_pred = gnb.predict(X_test)\n",
    "\n",
    "accuracy = accuracy_score(y_test, y_pred)\n",
    "\n",
    "print(\"Accuracy:\", accuracy)"
   ]
  },
  {
   "cell_type": "markdown",
   "id": "522ab874",
   "metadata": {},
   "source": [
    "### Question 1"
   ]
  },
  {
   "cell_type": "code",
   "execution_count": 10,
   "id": "fb23ee4a",
   "metadata": {},
   "outputs": [],
   "source": [
    "# 10-fold CV evaluation of a classifier\n",
    "def eval_classifier(_clf, _X, _y):\n",
    "    accuracies = []\n",
    "    kf = StratifiedKFold(n_splits=10, shuffle=True, random_state=0)\n",
    "    for train_index, test_index in kf.split(_X, _y):\n",
    "        _clf.fit(_X[train_index], _y[train_index])\n",
    "        y_pred = _clf.predict(_X[test_index])\n",
    "        accuracies += [accuracy_score(_y[test_index], y_pred)]\n",
    "    return np.array(accuracies)"
   ]
  },
  {
   "cell_type": "code",
   "execution_count": 11,
   "id": "aabef083",
   "metadata": {},
   "outputs": [
    {
     "name": "stdout",
     "output_type": "stream",
     "text": [
      "Naive Bayes CV accuracy=0.84 ±0.028\n"
     ]
    }
   ],
   "source": [
    "acc = eval_classifier(GaussianNB(), X, y)\n",
    "print(f'Naive Bayes CV accuracy={np.mean(acc):.2f} {chr(177)}{np.std(acc):.3f}')"
   ]
  },
  {
   "cell_type": "code",
   "execution_count": 12,
   "id": "40c595d7",
   "metadata": {},
   "outputs": [
    {
     "name": "stdout",
     "output_type": "stream",
     "text": [
      "SVM RBF CV accuracy=0.86 ±0.024\n"
     ]
    }
   ],
   "source": [
    "acc = eval_classifier(SVC(kernel='linear', probability=True), X, y)\n",
    "print(f'SVM RBF CV accuracy={np.mean(acc):.2f} {chr(177)}{np.std(acc):.3f}')"
   ]
  },
  {
   "cell_type": "code",
   "execution_count": 13,
   "id": "a9260fdd",
   "metadata": {},
   "outputs": [
    {
     "name": "stdout",
     "output_type": "stream",
     "text": [
      "Neural Network CV accuracy=0.83 ±0.029\n"
     ]
    }
   ],
   "source": [
    "acc = eval_classifier(MLPClassifier(), X, y)\n",
    "print(f'Neural Network CV accuracy={np.mean(acc):.2f} {chr(177)}{np.std(acc):.3f}')"
   ]
  },
  {
   "cell_type": "code",
   "execution_count": 14,
   "id": "5cf278cb",
   "metadata": {
    "scrolled": true
   },
   "outputs": [
    {
     "name": "stdout",
     "output_type": "stream",
     "text": [
      "Decision Tree CV accuracy=0.79 ±0.038\n"
     ]
    }
   ],
   "source": [
    "acc = eval_classifier(DecisionTreeClassifier(), X, y)\n",
    "print(f'Decision Tree CV accuracy={np.mean(acc):.2f} {chr(177)}{np.std(acc):.3f}')"
   ]
  },
  {
   "cell_type": "code",
   "execution_count": 15,
   "id": "bb5ae87f",
   "metadata": {
    "scrolled": true
   },
   "outputs": [
    {
     "name": "stdout",
     "output_type": "stream",
     "text": [
      "Random Forest CV accuracy=0.87 ±0.028\n"
     ]
    }
   ],
   "source": [
    "acc = eval_classifier(RandomForestClassifier(), X, y)\n",
    "print(f'Random Forest CV accuracy={np.mean(acc):.2f} {chr(177)}{np.std(acc):.3f}')"
   ]
  },
  {
   "cell_type": "markdown",
   "id": "b5a2dac2",
   "metadata": {},
   "source": [
    "### Question 2"
   ]
  },
  {
   "cell_type": "code",
   "execution_count": 16,
   "id": "7c4cb3e0",
   "metadata": {},
   "outputs": [
    {
     "name": "stdout",
     "output_type": "stream",
     "text": [
      "GaussianNB Ensemble - First Classifier: 0.84±0.028\n",
      "Linear SVC Ensemble - First Classifier: 0.86±0.024\n",
      "MLPClassifier Ensemble - First Classifier: 0.72±0.053\n",
      "DecisionTreeClassifier Ensemble - First Classifier: 0.82±0.030\n",
      "CPU times: user 1min 24s, sys: 603 ms, total: 1min 24s\n",
      "Wall time: 1min 18s\n"
     ]
    }
   ],
   "source": [
    "%%time\n",
    "\n",
    "classifiers = [\n",
    "    ('GaussianNB', GaussianNB()),\n",
    "    ('Linear SVC', SVC(kernel='linear', probability=True)),\n",
    "    # I changed this from assignment directions because it did not converge with those params\n",
    "    ('MLPClassifier', MLPClassifier(hidden_layer_sizes=(50,100),max_iter=500, tol=1e-1)),\n",
    "    ('DecisionTreeClassifier', DecisionTreeClassifier(max_depth=5, max_features=5))\n",
    "]\n",
    "\n",
    "ensemble_size = 100\n",
    "\n",
    "ensemble_classifiers = []\n",
    "\n",
    "# Generate ensembles\n",
    "for name, clf in classifiers:\n",
    "    ensemble = []\n",
    "    for _ in range(ensemble_size):\n",
    "        weak_clf = clone(clf)\n",
    "        ensemble.append(weak_clf)\n",
    "    ensemble_classifiers.append(ensemble)\n",
    "\n",
    "# Report the first classifier's performance in each ensemble\n",
    "for i, (name, _) in enumerate(classifiers):\n",
    "    # The first weak classifier\n",
    "    clf = ensemble_classifiers[i][0]\n",
    "    scores = eval_classifier(clf, X, y)\n",
    "    print(f\"{name} Ensemble - First Classifier: {scores.mean():.2f}{chr(177)}{scores.std():.3f}\")"
   ]
  },
  {
   "cell_type": "markdown",
   "id": "39906080",
   "metadata": {},
   "source": [
    "### Question 3"
   ]
  },
  {
   "cell_type": "code",
   "execution_count": 17,
   "id": "59c196ed",
   "metadata": {},
   "outputs": [],
   "source": [
    "def ensemble_fit(_clfs, _X, _y, subsample_ratio):\n",
    "    N, ix = _X.shape[0], None\n",
    "    for c in _clfs:\n",
    "        bCheck=True\n",
    "        while bCheck:\n",
    "            # Random sampling\n",
    "            ix = random.sample(range(N), int(subsample_ratio*N))\n",
    "            if len(np.unique(_y[ix]))==2:\n",
    "                bCheck=False\n",
    "            c.fit(_X[ix,:], _y[ix])"
   ]
  },
  {
   "cell_type": "markdown",
   "id": "e483c82a",
   "metadata": {},
   "source": [
    "### Question 4"
   ]
  },
  {
   "cell_type": "code",
   "execution_count": 18,
   "id": "1ac8566d",
   "metadata": {},
   "outputs": [],
   "source": [
    "def ensemble_predict(_clfs, _X):\n",
    "    N = _X.shape[0]\n",
    "    ypred_scores = np.zeros((N, 2))\n",
    "    for c in _clfs:\n",
    "        pred = c.predict_proba(_X)\n",
    "        for i in range(N):\n",
    "            ypred_scores[i] += pred[i]\n",
    "        ypred = np.argmax(ypred_scores, axis=1)\n",
    "    return ypred"
   ]
  },
  {
   "cell_type": "markdown",
   "id": "43c0845f",
   "metadata": {},
   "source": [
    "### Refactoring eval_classfier for ensembles"
   ]
  },
  {
   "cell_type": "code",
   "execution_count": 19,
   "id": "92a5c209",
   "metadata": {},
   "outputs": [],
   "source": [
    "# 10-fold CV evaluation of an ensemble classifier\n",
    "# This is a modification of the eval_classifier above\n",
    "# which utilizes the ensemble_fit and predict methods\n",
    "def eval_classifier_sampling(_clf, _X, _y, subsample_ratios):\n",
    "    accuracies = []\n",
    "    kf = StratifiedKFold(n_splits=10, shuffle=True, random_state=0)\n",
    "    for ratio in subsample_ratios:\n",
    "        for train_index, test_index in kf.split(_X, _y):\n",
    "            ensemble_fit(_clf, _X[train_index], _y[train_index], ratio)\n",
    "            y_pred = ensemble_predict(_clf, _X[test_index])\n",
    "            accuracies += [accuracy_score(_y[test_index], y_pred)]\n",
    "    return np.array(accuracies)"
   ]
  },
  {
   "cell_type": "markdown",
   "id": "f809543f",
   "metadata": {},
   "source": [
    "### Question 5"
   ]
  },
  {
   "cell_type": "code",
   "execution_count": null,
   "id": "a425c593",
   "metadata": {},
   "outputs": [
    {
     "name": "stdout",
     "output_type": "stream",
     "text": [
      "Subsample Ratio: 0.2\n",
      "GaussianNB Ensemble: 0.84 ±0.028\n"
     ]
    }
   ],
   "source": [
    "%%time\n",
    "\n",
    "subsample_ratios = [0.2, 0.05]\n",
    "\n",
    "for ratio in subsample_ratios:\n",
    "    print(f\"Subsample Ratio: {ratio}\")\n",
    "    regular_clf = DecisionTreeClassifier(max_depth=5, max_features=5)\n",
    "    \n",
    "    ensemble_clfs = [\n",
    "        ('GaussianNB Ensemble', ensemble_classifiers[0]),\n",
    "        ('Linear SVC Ensemble', ensemble_classifiers[1]),\n",
    "        ('MLPClassifier Ensemble', ensemble_classifiers[2]),\n",
    "        ('DecisionTreeClassifier Ensemble', ensemble_classifiers[3])\n",
    "    ]\n",
    "    \n",
    "    for name, clf in ensemble_clfs:\n",
    "        scores = eval_classifier_sampling(clf, X, y, subsample_ratios)\n",
    "        print(f\"{name}: {scores.mean():.2f} {chr(177)}{scores.std():.3f}\")\n",
    "    \n",
    "\n",
    "    scores_regular = eval_classifier_sampling([regular_clf], X, y, subsample_ratios)\n",
    "    print(f\"Regular Decision Tree: {scores_regular.mean():.2f} {chr(177)}{scores_regular.std():.3f}\")\n",
    "    print('----------------')"
   ]
  },
  {
   "cell_type": "markdown",
   "id": "ac05d3da",
   "metadata": {},
   "source": [
    "### Question 6"
   ]
  },
  {
   "cell_type": "code",
   "execution_count": null,
   "id": "45a20d61",
   "metadata": {
    "scrolled": false
   },
   "outputs": [],
   "source": [
    "%%time\n",
    "\n",
    "subsample_ratios = [0.005, 0.01, 0.03, 0.05, 0.1, 0.2]\n",
    "\n",
    "accuracies = {\n",
    "    'GaussianNB Ensemble': [],\n",
    "    'Linear SVC Ensemble': [],\n",
    "    'MLPClassifier Ensemble': [],\n",
    "    'DecisionTreeClassifier Ensemble': []\n",
    "}\n",
    "accuracies_regular_dt = []\n",
    "\n",
    "for ratio in subsample_ratios:\n",
    "    print(f\"Subsample Ratio: {ratio}\")\n",
    "    \n",
    "    # Setting up a set of tuples for the ensembles that were created above\n",
    "    ensemble_clfs = [\n",
    "        ('GaussianNB Ensemble', ensemble_classifiers[0]),\n",
    "        ('Linear SVC Ensemble', ensemble_classifiers[1]),\n",
    "        ('MLPClassifier Ensemble', ensemble_classifiers[2]),\n",
    "        ('DecisionTreeClassifier Ensemble', ensemble_classifiers[3])\n",
    "    ]\n",
    "    \n",
    "    # for each subsample, and each ensemble, evaluate and set accuracy scores\n",
    "    for name, clf in ensemble_clfs:\n",
    "        scores = eval_classifier_sampling(clf, X, y, subsample_ratios)\n",
    "        accuracies[name].append(scores.mean())\n",
    "        print(f\"{name}: {scores.mean():.2f} {chr(177)}{scores.std():.3f}\")\n",
    "\n",
    "    scores_regular_dt = eval_classifier_sampling([DecisionTreeClassifier(max_depth=5, max_features=5)], X, y, subsample_ratios)\n",
    "    accuracies_regular_dt.append(scores_regular_dt.mean())\n",
    "    print(f\"Regular Decision Tree: {scores_regular_dt.mean():.2f} {chr(177)}{scores_regular_dt.std():.3f}\")\n",
    "    print('----------------')\n",
    "\n",
    "\n",
    "# Plot the accuracy scores for the ensembles\n",
    "for name, accuracies in accuracies.items():\n",
    "    plt.plot(subsample_ratios, accuracies, label=name)\n",
    "\n",
    "# Plot the accuracy scores for the normal decision tree\n",
    "plt.plot(subsample_ratios, accuracies_regular, label=\"Regular Decision Tree\")\n",
    "\n",
    "plt.xlabel('Subsample Ratio')\n",
    "plt.ylabel('Accuracy')\n",
    "plt.legend()\n",
    "plt.show()"
   ]
  }
 ],
 "metadata": {
  "kernelspec": {
   "display_name": "Python 3 (ipykernel)",
   "language": "python",
   "name": "python3"
  },
  "language_info": {
   "codemirror_mode": {
    "name": "ipython",
    "version": 3
   },
   "file_extension": ".py",
   "mimetype": "text/x-python",
   "name": "python",
   "nbconvert_exporter": "python",
   "pygments_lexer": "ipython3",
   "version": "3.11.3"
  }
 },
 "nbformat": 4,
 "nbformat_minor": 5
}
