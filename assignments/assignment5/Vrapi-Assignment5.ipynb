{
 "cells": [
  {
   "cell_type": "markdown",
   "id": "a3fa8e87",
   "metadata": {},
   "source": [
    "# Assignment 5"
   ]
  },
  {
   "cell_type": "code",
   "execution_count": 1,
   "id": "e76de05f",
   "metadata": {},
   "outputs": [],
   "source": [
    "%matplotlib inline\n",
    "import matplotlib.pyplot as plt\n",
    "plt.rcParams[\"figure.dpi\"] = 72\n",
    "\n",
    "import pandas as pd\n",
    "import numpy as np\n",
    "import seaborn as sns\n",
    "import random\n",
    "\n",
    "\n",
    "from sklearn.ensemble import RandomForestClassifier\n",
    "from sklearn.model_selection import train_test_split\n",
    "from sklearn.metrics import accuracy_score\n",
    "from sklearn.svm import SVC\n",
    "from sklearn.model_selection import StratifiedKFold\n",
    "from sklearn.naive_bayes import GaussianNB\n",
    "from sklearn.neural_network import MLPClassifier\n",
    "from sklearn.tree import DecisionTreeClassifier\n",
    "from sklearn.preprocessing import OrdinalEncoder\n",
    "from sklearn.model_selection import cross_val_score\n",
    "from sklearn.base import clone"
   ]
  },
  {
   "cell_type": "code",
   "execution_count": 2,
   "id": "a6ab069e",
   "metadata": {},
   "outputs": [
    {
     "data": {
      "text/html": [
       "<div>\n",
       "<style scoped>\n",
       "    .dataframe tbody tr th:only-of-type {\n",
       "        vertical-align: middle;\n",
       "    }\n",
       "\n",
       "    .dataframe tbody tr th {\n",
       "        vertical-align: top;\n",
       "    }\n",
       "\n",
       "    .dataframe thead th {\n",
       "        text-align: right;\n",
       "    }\n",
       "</style>\n",
       "<table border=\"1\" class=\"dataframe\">\n",
       "  <thead>\n",
       "    <tr style=\"text-align: right;\">\n",
       "      <th></th>\n",
       "      <th>Age</th>\n",
       "      <th>Sex</th>\n",
       "      <th>ChestPainType</th>\n",
       "      <th>RestingBP</th>\n",
       "      <th>Cholesterol</th>\n",
       "      <th>FastingBS</th>\n",
       "      <th>RestingECG</th>\n",
       "      <th>MaxHR</th>\n",
       "      <th>ExerciseAngina</th>\n",
       "      <th>Oldpeak</th>\n",
       "      <th>ST_Slope</th>\n",
       "      <th>HeartDisease</th>\n",
       "    </tr>\n",
       "  </thead>\n",
       "  <tbody>\n",
       "    <tr>\n",
       "      <th>0</th>\n",
       "      <td>40</td>\n",
       "      <td>M</td>\n",
       "      <td>ATA</td>\n",
       "      <td>140</td>\n",
       "      <td>289</td>\n",
       "      <td>0</td>\n",
       "      <td>Normal</td>\n",
       "      <td>172</td>\n",
       "      <td>N</td>\n",
       "      <td>0.0</td>\n",
       "      <td>Up</td>\n",
       "      <td>0</td>\n",
       "    </tr>\n",
       "    <tr>\n",
       "      <th>1</th>\n",
       "      <td>49</td>\n",
       "      <td>F</td>\n",
       "      <td>NAP</td>\n",
       "      <td>160</td>\n",
       "      <td>180</td>\n",
       "      <td>0</td>\n",
       "      <td>Normal</td>\n",
       "      <td>156</td>\n",
       "      <td>N</td>\n",
       "      <td>1.0</td>\n",
       "      <td>Flat</td>\n",
       "      <td>1</td>\n",
       "    </tr>\n",
       "    <tr>\n",
       "      <th>2</th>\n",
       "      <td>37</td>\n",
       "      <td>M</td>\n",
       "      <td>ATA</td>\n",
       "      <td>130</td>\n",
       "      <td>283</td>\n",
       "      <td>0</td>\n",
       "      <td>ST</td>\n",
       "      <td>98</td>\n",
       "      <td>N</td>\n",
       "      <td>0.0</td>\n",
       "      <td>Up</td>\n",
       "      <td>0</td>\n",
       "    </tr>\n",
       "    <tr>\n",
       "      <th>3</th>\n",
       "      <td>48</td>\n",
       "      <td>F</td>\n",
       "      <td>ASY</td>\n",
       "      <td>138</td>\n",
       "      <td>214</td>\n",
       "      <td>0</td>\n",
       "      <td>Normal</td>\n",
       "      <td>108</td>\n",
       "      <td>Y</td>\n",
       "      <td>1.5</td>\n",
       "      <td>Flat</td>\n",
       "      <td>1</td>\n",
       "    </tr>\n",
       "    <tr>\n",
       "      <th>4</th>\n",
       "      <td>54</td>\n",
       "      <td>M</td>\n",
       "      <td>NAP</td>\n",
       "      <td>150</td>\n",
       "      <td>195</td>\n",
       "      <td>0</td>\n",
       "      <td>Normal</td>\n",
       "      <td>122</td>\n",
       "      <td>N</td>\n",
       "      <td>0.0</td>\n",
       "      <td>Up</td>\n",
       "      <td>0</td>\n",
       "    </tr>\n",
       "  </tbody>\n",
       "</table>\n",
       "</div>"
      ],
      "text/plain": [
       "   Age Sex ChestPainType  RestingBP  Cholesterol  FastingBS RestingECG  MaxHR  \\\n",
       "0   40   M           ATA        140          289          0     Normal    172   \n",
       "1   49   F           NAP        160          180          0     Normal    156   \n",
       "2   37   M           ATA        130          283          0         ST     98   \n",
       "3   48   F           ASY        138          214          0     Normal    108   \n",
       "4   54   M           NAP        150          195          0     Normal    122   \n",
       "\n",
       "  ExerciseAngina  Oldpeak ST_Slope  HeartDisease  \n",
       "0              N      0.0       Up             0  \n",
       "1              N      1.0     Flat             1  \n",
       "2              N      0.0       Up             0  \n",
       "3              Y      1.5     Flat             1  \n",
       "4              N      0.0       Up             0  "
      ]
     },
     "execution_count": 2,
     "metadata": {},
     "output_type": "execute_result"
    }
   ],
   "source": [
    "df = pd.read_csv(\"./heart_dataset.csv\")\n",
    "df.head()"
   ]
  },
  {
   "cell_type": "code",
   "execution_count": 3,
   "id": "cad85b64",
   "metadata": {},
   "outputs": [
    {
     "data": {
      "text/plain": [
       "array(['ATA', 'NAP', 'ASY', 'TA'], dtype=object)"
      ]
     },
     "execution_count": 3,
     "metadata": {},
     "output_type": "execute_result"
    }
   ],
   "source": [
    "df['ChestPainType'].unique()"
   ]
  },
  {
   "cell_type": "code",
   "execution_count": 4,
   "id": "d3bf4fed",
   "metadata": {},
   "outputs": [
    {
     "data": {
      "text/plain": [
       "array(['Normal', 'ST', 'LVH'], dtype=object)"
      ]
     },
     "execution_count": 4,
     "metadata": {},
     "output_type": "execute_result"
    }
   ],
   "source": [
    "df['RestingECG'].unique()"
   ]
  },
  {
   "cell_type": "code",
   "execution_count": 5,
   "id": "15b66204",
   "metadata": {},
   "outputs": [
    {
     "data": {
      "text/plain": [
       "array(['Up', 'Flat', 'Down'], dtype=object)"
      ]
     },
     "execution_count": 5,
     "metadata": {},
     "output_type": "execute_result"
    }
   ],
   "source": [
    "df['ST_Slope'].unique()"
   ]
  },
  {
   "cell_type": "code",
   "execution_count": 6,
   "id": "3fb13db9",
   "metadata": {},
   "outputs": [
    {
     "name": "stdout",
     "output_type": "stream",
     "text": [
      "<class 'pandas.core.frame.DataFrame'>\n",
      "RangeIndex: 918 entries, 0 to 917\n",
      "Data columns (total 12 columns):\n",
      " #   Column          Non-Null Count  Dtype  \n",
      "---  ------          --------------  -----  \n",
      " 0   Age             918 non-null    int64  \n",
      " 1   Sex             918 non-null    object \n",
      " 2   ChestPainType   918 non-null    object \n",
      " 3   RestingBP       918 non-null    int64  \n",
      " 4   Cholesterol     918 non-null    int64  \n",
      " 5   FastingBS       918 non-null    int64  \n",
      " 6   RestingECG      918 non-null    object \n",
      " 7   MaxHR           918 non-null    int64  \n",
      " 8   ExerciseAngina  918 non-null    object \n",
      " 9   Oldpeak         918 non-null    float64\n",
      " 10  ST_Slope        918 non-null    object \n",
      " 11  HeartDisease    918 non-null    int64  \n",
      "dtypes: float64(1), int64(6), object(5)\n",
      "memory usage: 86.2+ KB\n"
     ]
    }
   ],
   "source": [
    "df.info()"
   ]
  },
  {
   "cell_type": "code",
   "execution_count": 7,
   "id": "ce2a89f5",
   "metadata": {},
   "outputs": [],
   "source": [
    "# One-hot encoding these 4 columns\n",
    "columns_to_encode = ['RestingECG', 'ChestPainType', \"ExerciseAngina\", \"Sex\"]\n",
    "df = pd.get_dummies(df, columns=columns_to_encode)"
   ]
  },
  {
   "cell_type": "code",
   "execution_count": 8,
   "id": "06e1f3e6",
   "metadata": {
    "scrolled": true
   },
   "outputs": [
    {
     "data": {
      "text/html": [
       "<div>\n",
       "<style scoped>\n",
       "    .dataframe tbody tr th:only-of-type {\n",
       "        vertical-align: middle;\n",
       "    }\n",
       "\n",
       "    .dataframe tbody tr th {\n",
       "        vertical-align: top;\n",
       "    }\n",
       "\n",
       "    .dataframe thead th {\n",
       "        text-align: right;\n",
       "    }\n",
       "</style>\n",
       "<table border=\"1\" class=\"dataframe\">\n",
       "  <thead>\n",
       "    <tr style=\"text-align: right;\">\n",
       "      <th></th>\n",
       "      <th>Age</th>\n",
       "      <th>RestingBP</th>\n",
       "      <th>Cholesterol</th>\n",
       "      <th>FastingBS</th>\n",
       "      <th>MaxHR</th>\n",
       "      <th>Oldpeak</th>\n",
       "      <th>ST_Slope</th>\n",
       "      <th>HeartDisease</th>\n",
       "      <th>RestingECG_LVH</th>\n",
       "      <th>RestingECG_Normal</th>\n",
       "      <th>RestingECG_ST</th>\n",
       "      <th>ChestPainType_ASY</th>\n",
       "      <th>ChestPainType_ATA</th>\n",
       "      <th>ChestPainType_NAP</th>\n",
       "      <th>ChestPainType_TA</th>\n",
       "      <th>ExerciseAngina_N</th>\n",
       "      <th>ExerciseAngina_Y</th>\n",
       "      <th>Sex_F</th>\n",
       "      <th>Sex_M</th>\n",
       "    </tr>\n",
       "  </thead>\n",
       "  <tbody>\n",
       "    <tr>\n",
       "      <th>0</th>\n",
       "      <td>40</td>\n",
       "      <td>140</td>\n",
       "      <td>289</td>\n",
       "      <td>0</td>\n",
       "      <td>172</td>\n",
       "      <td>0.0</td>\n",
       "      <td>2.0</td>\n",
       "      <td>0</td>\n",
       "      <td>0</td>\n",
       "      <td>1</td>\n",
       "      <td>0</td>\n",
       "      <td>0</td>\n",
       "      <td>1</td>\n",
       "      <td>0</td>\n",
       "      <td>0</td>\n",
       "      <td>1</td>\n",
       "      <td>0</td>\n",
       "      <td>0</td>\n",
       "      <td>1</td>\n",
       "    </tr>\n",
       "    <tr>\n",
       "      <th>1</th>\n",
       "      <td>49</td>\n",
       "      <td>160</td>\n",
       "      <td>180</td>\n",
       "      <td>0</td>\n",
       "      <td>156</td>\n",
       "      <td>1.0</td>\n",
       "      <td>1.0</td>\n",
       "      <td>1</td>\n",
       "      <td>0</td>\n",
       "      <td>1</td>\n",
       "      <td>0</td>\n",
       "      <td>0</td>\n",
       "      <td>0</td>\n",
       "      <td>1</td>\n",
       "      <td>0</td>\n",
       "      <td>1</td>\n",
       "      <td>0</td>\n",
       "      <td>1</td>\n",
       "      <td>0</td>\n",
       "    </tr>\n",
       "    <tr>\n",
       "      <th>2</th>\n",
       "      <td>37</td>\n",
       "      <td>130</td>\n",
       "      <td>283</td>\n",
       "      <td>0</td>\n",
       "      <td>98</td>\n",
       "      <td>0.0</td>\n",
       "      <td>2.0</td>\n",
       "      <td>0</td>\n",
       "      <td>0</td>\n",
       "      <td>0</td>\n",
       "      <td>1</td>\n",
       "      <td>0</td>\n",
       "      <td>1</td>\n",
       "      <td>0</td>\n",
       "      <td>0</td>\n",
       "      <td>1</td>\n",
       "      <td>0</td>\n",
       "      <td>0</td>\n",
       "      <td>1</td>\n",
       "    </tr>\n",
       "    <tr>\n",
       "      <th>3</th>\n",
       "      <td>48</td>\n",
       "      <td>138</td>\n",
       "      <td>214</td>\n",
       "      <td>0</td>\n",
       "      <td>108</td>\n",
       "      <td>1.5</td>\n",
       "      <td>1.0</td>\n",
       "      <td>1</td>\n",
       "      <td>0</td>\n",
       "      <td>1</td>\n",
       "      <td>0</td>\n",
       "      <td>1</td>\n",
       "      <td>0</td>\n",
       "      <td>0</td>\n",
       "      <td>0</td>\n",
       "      <td>0</td>\n",
       "      <td>1</td>\n",
       "      <td>1</td>\n",
       "      <td>0</td>\n",
       "    </tr>\n",
       "    <tr>\n",
       "      <th>4</th>\n",
       "      <td>54</td>\n",
       "      <td>150</td>\n",
       "      <td>195</td>\n",
       "      <td>0</td>\n",
       "      <td>122</td>\n",
       "      <td>0.0</td>\n",
       "      <td>2.0</td>\n",
       "      <td>0</td>\n",
       "      <td>0</td>\n",
       "      <td>1</td>\n",
       "      <td>0</td>\n",
       "      <td>0</td>\n",
       "      <td>0</td>\n",
       "      <td>1</td>\n",
       "      <td>0</td>\n",
       "      <td>1</td>\n",
       "      <td>0</td>\n",
       "      <td>0</td>\n",
       "      <td>1</td>\n",
       "    </tr>\n",
       "  </tbody>\n",
       "</table>\n",
       "</div>"
      ],
      "text/plain": [
       "   Age  RestingBP  Cholesterol  FastingBS  MaxHR  Oldpeak  ST_Slope  \\\n",
       "0   40        140          289          0    172      0.0       2.0   \n",
       "1   49        160          180          0    156      1.0       1.0   \n",
       "2   37        130          283          0     98      0.0       2.0   \n",
       "3   48        138          214          0    108      1.5       1.0   \n",
       "4   54        150          195          0    122      0.0       2.0   \n",
       "\n",
       "   HeartDisease  RestingECG_LVH  RestingECG_Normal  RestingECG_ST  \\\n",
       "0             0               0                  1              0   \n",
       "1             1               0                  1              0   \n",
       "2             0               0                  0              1   \n",
       "3             1               0                  1              0   \n",
       "4             0               0                  1              0   \n",
       "\n",
       "   ChestPainType_ASY  ChestPainType_ATA  ChestPainType_NAP  ChestPainType_TA  \\\n",
       "0                  0                  1                  0                 0   \n",
       "1                  0                  0                  1                 0   \n",
       "2                  0                  1                  0                 0   \n",
       "3                  1                  0                  0                 0   \n",
       "4                  0                  0                  1                 0   \n",
       "\n",
       "   ExerciseAngina_N  ExerciseAngina_Y  Sex_F  Sex_M  \n",
       "0                 1                 0      0      1  \n",
       "1                 1                 0      1      0  \n",
       "2                 1                 0      0      1  \n",
       "3                 0                 1      1      0  \n",
       "4                 1                 0      0      1  "
      ]
     },
     "execution_count": 8,
     "metadata": {},
     "output_type": "execute_result"
    }
   ],
   "source": [
    "st_order = ['Down', 'Flat', 'Up']\n",
    "# Encode this ordinally, because there is a direction here\n",
    "ordinal_encoder = OrdinalEncoder(categories=[st_order])\n",
    "\n",
    "df['ST_Slope'] = ordinal_encoder.fit_transform(df[['ST_Slope']])\n",
    "    \n",
    "df.head()"
   ]
  },
  {
   "cell_type": "code",
   "execution_count": 9,
   "id": "1433dda7",
   "metadata": {},
   "outputs": [
    {
     "name": "stdout",
     "output_type": "stream",
     "text": [
      "Accuracy: 0.8315217391304348\n"
     ]
    }
   ],
   "source": [
    "# Sanity Check\n",
    "\n",
    "X = df.loc[:, df.columns != 'HeartDisease'].values\n",
    "y = df.loc[:, df.columns == 'HeartDisease'].values.ravel()\n",
    "\n",
    "X_train, X_test, y_train, y_test = train_test_split(X, y, test_size=0.2, random_state=42)\n",
    "\n",
    "\n",
    "gnb = GaussianNB()\n",
    "\n",
    "gnb.fit(X_train, y_train)\n",
    "\n",
    "y_pred = gnb.predict(X_test)\n",
    "\n",
    "accuracy = accuracy_score(y_test, y_pred)\n",
    "\n",
    "print(\"Accuracy:\", accuracy)"
   ]
  },
  {
   "cell_type": "markdown",
   "id": "55ce3af7",
   "metadata": {},
   "source": [
    "### Question 1"
   ]
  },
  {
   "cell_type": "code",
   "execution_count": 10,
   "id": "3755b943",
   "metadata": {},
   "outputs": [],
   "source": [
    "# 10-fold CV evaluation of a classifier\n",
    "def eval_classifier(_clf, _X, _y):\n",
    "    accuracies = []\n",
    "    kf = StratifiedKFold(n_splits=10, shuffle=True, random_state=0)\n",
    "    for train_index, test_index in kf.split(_X, _y):\n",
    "        _clf.fit(_X[train_index], _y[train_index])\n",
    "        y_pred = _clf.predict(_X[test_index])\n",
    "        accuracies += [accuracy_score(_y[test_index], y_pred)]\n",
    "    return np.array(accuracies)"
   ]
  },
  {
   "cell_type": "code",
   "execution_count": 11,
   "id": "cc97e092",
   "metadata": {},
   "outputs": [
    {
     "name": "stdout",
     "output_type": "stream",
     "text": [
      "Naive Bayes CV accuracy=0.84 ±0.028\n"
     ]
    }
   ],
   "source": [
    "acc = eval_classifier(GaussianNB(), X, y)\n",
    "print(f'Naive Bayes CV accuracy={np.mean(acc):.2f} {chr(177)}{np.std(acc):.3f}')"
   ]
  },
  {
   "cell_type": "code",
   "execution_count": 12,
   "id": "bd51f59c",
   "metadata": {},
   "outputs": [
    {
     "name": "stdout",
     "output_type": "stream",
     "text": [
      "SVM RBF CV accuracy=0.86 ±0.024\n"
     ]
    }
   ],
   "source": [
    "acc = eval_classifier(SVC(kernel='linear', probability=True), X, y)\n",
    "print(f'SVM RBF CV accuracy={np.mean(acc):.2f} {chr(177)}{np.std(acc):.3f}')"
   ]
  },
  {
   "cell_type": "code",
   "execution_count": 13,
   "id": "b5946ba9",
   "metadata": {},
   "outputs": [
    {
     "name": "stdout",
     "output_type": "stream",
     "text": [
      "Neural Network CV accuracy=0.83 ±0.027\n"
     ]
    }
   ],
   "source": [
    "acc = eval_classifier(MLPClassifier(), X, y)\n",
    "print(f'Neural Network CV accuracy={np.mean(acc):.2f} {chr(177)}{np.std(acc):.3f}')"
   ]
  },
  {
   "cell_type": "code",
   "execution_count": 14,
   "id": "3bdef2e5",
   "metadata": {
    "scrolled": true
   },
   "outputs": [
    {
     "name": "stdout",
     "output_type": "stream",
     "text": [
      "Decision Tree CV accuracy=0.80 ±0.053\n"
     ]
    }
   ],
   "source": [
    "acc = eval_classifier(DecisionTreeClassifier(), X, y)\n",
    "print(f'Decision Tree CV accuracy={np.mean(acc):.2f} {chr(177)}{np.std(acc):.3f}')"
   ]
  },
  {
   "cell_type": "code",
   "execution_count": 15,
   "id": "6ec4931d",
   "metadata": {
    "scrolled": true
   },
   "outputs": [
    {
     "name": "stdout",
     "output_type": "stream",
     "text": [
      "Random Forest CV accuracy=0.87 ±0.025\n"
     ]
    }
   ],
   "source": [
    "acc = eval_classifier(RandomForestClassifier(), X, y)\n",
    "print(f'Random Forest CV accuracy={np.mean(acc):.2f} {chr(177)}{np.std(acc):.3f}')"
   ]
  },
  {
   "cell_type": "markdown",
   "id": "00d9aaba",
   "metadata": {},
   "source": [
    "### Question 2"
   ]
  },
  {
   "cell_type": "code",
   "execution_count": 16,
   "id": "ef836d75",
   "metadata": {},
   "outputs": [
    {
     "name": "stdout",
     "output_type": "stream",
     "text": [
      "GaussianNB Ensemble - First Classifier: 0.84±0.028\n",
      "Linear SVC Ensemble - First Classifier: 0.86±0.024\n",
      "MLPClassifier Ensemble - First Classifier: 0.75±0.054\n",
      "DecisionTreeClassifier Ensemble - First Classifier: 0.81±0.038\n",
      "CPU times: user 1min 23s, sys: 451 ms, total: 1min 24s\n",
      "Wall time: 1min 18s\n"
     ]
    }
   ],
   "source": [
    "%%time\n",
    "\n",
    "classifiers = [\n",
    "    ('GaussianNB', GaussianNB()),\n",
    "    ('Linear SVC', SVC(kernel='linear', probability=True)),\n",
    "    # I changed this from assignment directions because it did not converge with those params\n",
    "    ('MLPClassifier', MLPClassifier(hidden_layer_sizes=(50,100),max_iter=500, tol=1e-1)),\n",
    "    ('DecisionTreeClassifier', DecisionTreeClassifier(max_depth=5, max_features=5))\n",
    "]\n",
    "\n",
    "ensemble_size = 100\n",
    "\n",
    "ensemble_classifiers = []\n",
    "\n",
    "# Generate ensembles\n",
    "for name, clf in classifiers:\n",
    "    ensemble = []\n",
    "    for _ in range(ensemble_size):\n",
    "        weak_clf = clone(clf)\n",
    "        ensemble.append(weak_clf)\n",
    "    ensemble_classifiers.append(ensemble)\n",
    "\n",
    "# Report the first classifier's performance in each ensemble\n",
    "for i, (name, _) in enumerate(classifiers):\n",
    "    # The first weak classifier\n",
    "    clf = ensemble_classifiers[i][0]\n",
    "    scores = eval_classifier(clf, X, y)\n",
    "    print(f\"{name} Ensemble - First Classifier: {scores.mean():.2f}{chr(177)}{scores.std():.3f}\")"
   ]
  },
  {
   "cell_type": "markdown",
   "id": "090ade3f",
   "metadata": {},
   "source": [
    "### Question 3"
   ]
  },
  {
   "cell_type": "code",
   "execution_count": 17,
   "id": "9f6d27f2",
   "metadata": {},
   "outputs": [],
   "source": [
    "def ensemble_fit(_clfs, _X, _y, subsample_ratio):\n",
    "    N, ix = _X.shape[0], None\n",
    "    for c in _clfs:\n",
    "        bCheck=True\n",
    "        while bCheck:\n",
    "            # Random sampling\n",
    "            ix = random.sample(range(N), int(subsample_ratio*N))\n",
    "            # Ensures we have at least 2 unique classes in subsample\n",
    "            if len(np.unique(_y[ix])) < 2:\n",
    "                continue\n",
    "            if len(np.unique(_y[ix]))==2:\n",
    "                bCheck=False\n",
    "            c.fit(_X[ix,:], _y[ix])"
   ]
  },
  {
   "cell_type": "markdown",
   "id": "5a820a5f",
   "metadata": {},
   "source": [
    "### Question 4"
   ]
  },
  {
   "cell_type": "code",
   "execution_count": 18,
   "id": "34d7e637",
   "metadata": {},
   "outputs": [],
   "source": [
    "def ensemble_predict(_clfs, _X):\n",
    "    N = _X.shape[0]\n",
    "    ypred_scores = np.zeros((N, 2))\n",
    "    for c in _clfs:\n",
    "        pred = c.predict_proba(_X)\n",
    "        for i in range(N):\n",
    "            ypred_scores[i] += pred[i]\n",
    "        ypred = np.argmax(ypred_scores, axis=1)\n",
    "    return ypred"
   ]
  },
  {
   "cell_type": "markdown",
   "id": "04404c0e",
   "metadata": {},
   "source": [
    "### Refactoring eval_classfier for ensembles"
   ]
  },
  {
   "cell_type": "code",
   "execution_count": 19,
   "id": "51f7c223",
   "metadata": {},
   "outputs": [],
   "source": [
    "# 10-fold CV evaluation of an ensemble classifier\n",
    "# This is a modification of the eval_classifier above\n",
    "# which utilizes the ensemble_fit and predict methods\n",
    "def eval_classifier_sampling(_clf, _X, _y, subsample_ratios):\n",
    "    accuracies = []\n",
    "    kf = StratifiedKFold(n_splits=10, shuffle=True, random_state=0)\n",
    "    for ratio in subsample_ratios:\n",
    "        for train_index, test_index in kf.split(_X, _y):\n",
    "            ensemble_fit(_clf, _X[train_index], _y[train_index], ratio)\n",
    "            y_pred = ensemble_predict(_clf, _X[test_index])\n",
    "            accuracies += [accuracy_score(_y[test_index], y_pred)]\n",
    "    return np.array(accuracies)"
   ]
  },
  {
   "cell_type": "markdown",
   "id": "27ef2441",
   "metadata": {},
   "source": [
    "### Question 5"
   ]
  },
  {
   "cell_type": "code",
   "execution_count": 20,
   "id": "960e4576",
   "metadata": {},
   "outputs": [
    {
     "name": "stdout",
     "output_type": "stream",
     "text": [
      "Subsample Ratio: 0.2\n",
      "GaussianNB Ensemble: 0.83 ±0.031\n",
      "Linear SVC Ensemble: 0.85 ±0.025\n",
      "MLPClassifier Ensemble: 0.73 ±0.049\n",
      "DecisionTreeClassifier Ensemble: 0.86 ±0.040\n",
      "Regular Decision Tree: 0.75 ±0.065\n",
      "----------------\n",
      "Subsample Ratio: 0.05\n",
      "GaussianNB Ensemble: 0.83 ±0.029\n",
      "Linear SVC Ensemble: 0.85 ±0.026\n",
      "MLPClassifier Ensemble: 0.73 ±0.057\n",
      "DecisionTreeClassifier Ensemble: 0.86 ±0.040\n",
      "Regular Decision Tree: 0.75 ±0.082\n",
      "----------------\n",
      "CPU times: user 53min 48s, sys: 59.8 s, total: 54min 48s\n",
      "Wall time: 48min 54s\n"
     ]
    }
   ],
   "source": [
    "%%time\n",
    "\n",
    "subsample_ratios = [0.2, 0.05]\n",
    "\n",
    "for ratio in subsample_ratios:\n",
    "    print(f\"Subsample Ratio: {ratio}\")\n",
    "    regular_clf = DecisionTreeClassifier(max_depth=5, max_features=5)\n",
    "    \n",
    "    ensemble_clfs = [\n",
    "        ('GaussianNB Ensemble', ensemble_classifiers[0]),\n",
    "        ('Linear SVC Ensemble', ensemble_classifiers[1]),\n",
    "        ('MLPClassifier Ensemble', ensemble_classifiers[2]),\n",
    "        ('DecisionTreeClassifier Ensemble', ensemble_classifiers[3])\n",
    "    ]\n",
    "    \n",
    "    for name, clf in ensemble_clfs:\n",
    "        scores = eval_classifier_sampling(clf, X, y, subsample_ratios)\n",
    "        print(f\"{name}: {scores.mean():.2f} {chr(177)}{scores.std():.3f}\")\n",
    "    \n",
    "\n",
    "    scores_regular = eval_classifier_sampling([regular_clf], X, y, subsample_ratios)\n",
    "    print(f\"Regular Decision Tree: {scores_regular.mean():.2f} {chr(177)}{scores_regular.std():.3f}\")\n",
    "    print('----------------')"
   ]
  },
  {
   "cell_type": "markdown",
   "id": "7f12da71",
   "metadata": {},
   "source": [
    "### Question 6"
   ]
  },
  {
   "cell_type": "code",
   "execution_count": 21,
   "id": "b5b74c1e",
   "metadata": {
    "scrolled": false
   },
   "outputs": [
    {
     "name": "stdout",
     "output_type": "stream",
     "text": [
      "Subsample Ratio: 0.005\n",
      "GaussianNB Ensemble: 0.84 ±0.032\n",
      "Linear SVC Ensemble: 0.75 ±0.149\n",
      "MLPClassifier Ensemble: 0.72 ±0.057\n",
      "DecisionTreeClassifier Ensemble: 0.85 ±0.040\n",
      "Regular Decision Tree: 0.71 ±0.111\n",
      "----------------\n",
      "Subsample Ratio: 0.01\n",
      "GaussianNB Ensemble: 0.82 ±0.043\n",
      "Linear SVC Ensemble: 0.75 ±0.148\n",
      "MLPClassifier Ensemble: 0.71 ±0.059\n",
      "DecisionTreeClassifier Ensemble: 0.85 ±0.039\n",
      "Regular Decision Tree: 0.70 ±0.114\n",
      "----------------\n",
      "Subsample Ratio: 0.03\n",
      "GaussianNB Ensemble: 0.83 ±0.037\n",
      "Linear SVC Ensemble: 0.75 ±0.150\n",
      "MLPClassifier Ensemble: 0.72 ±0.061\n",
      "DecisionTreeClassifier Ensemble: 0.85 ±0.042\n",
      "Regular Decision Tree: 0.70 ±0.111\n",
      "----------------\n",
      "Subsample Ratio: 0.05\n",
      "GaussianNB Ensemble: 0.83 ±0.042\n",
      "Linear SVC Ensemble: 0.75 ±0.151\n",
      "MLPClassifier Ensemble: 0.71 ±0.061\n",
      "DecisionTreeClassifier Ensemble: 0.85 ±0.038\n",
      "Regular Decision Tree: 0.70 ±0.108\n",
      "----------------\n",
      "Subsample Ratio: 0.1\n",
      "GaussianNB Ensemble: 0.83 ±0.035\n",
      "Linear SVC Ensemble: 0.75 ±0.144\n",
      "MLPClassifier Ensemble: 0.71 ±0.059\n",
      "DecisionTreeClassifier Ensemble: 0.86 ±0.037\n",
      "Regular Decision Tree: 0.69 ±0.107\n",
      "----------------\n",
      "Subsample Ratio: 0.2\n",
      "GaussianNB Ensemble: 0.83 ±0.042\n",
      "Linear SVC Ensemble: 0.76 ±0.140\n",
      "MLPClassifier Ensemble: 0.71 ±0.059\n",
      "DecisionTreeClassifier Ensemble: 0.86 ±0.041\n",
      "Regular Decision Tree: 0.72 ±0.090\n",
      "----------------\n"
     ]
    },
    {
     "data": {
      "image/png": "[encoded data removed]",
      "text/plain": [
       "<Figure size 460.8x345.6 with 1 Axes>"
      ]
     },
     "metadata": {},
     "output_type": "display_data"
    },
    {
     "name": "stdout",
     "output_type": "stream",
     "text": [
      "CPU times: user 3h 55min 23s, sys: 9min 35s, total: 4h 4min 59s\n",
      "Wall time: 3h 25min 56s\n"
     ]
    }
   ],
   "source": [
    "%%time\n",
    "\n",
    "subsample_ratios = [0.005, 0.01, 0.03, 0.05, 0.1, 0.2]\n",
    "# subsample_ratios = [0.005, 0.01]\n",
    "\n",
    "accuracies = {\n",
    "    'GaussianNB Ensemble': [],\n",
    "    'Linear SVC Ensemble': [],\n",
    "    'MLPClassifier Ensemble': [],\n",
    "    'DecisionTreeClassifier Ensemble': []\n",
    "}\n",
    "accuracies_regular_dt = []\n",
    "\n",
    "for ratio in subsample_ratios:\n",
    "    print(f\"Subsample Ratio: {ratio}\")\n",
    "    \n",
    "    # Setting up a set of tuples for the ensembles that were created above\n",
    "    ensemble_clfs = [\n",
    "        ('GaussianNB Ensemble', ensemble_classifiers[0]),\n",
    "        ('Linear SVC Ensemble', ensemble_classifiers[1]),\n",
    "        ('MLPClassifier Ensemble', ensemble_classifiers[2]),\n",
    "        ('DecisionTreeClassifier Ensemble', ensemble_classifiers[3])\n",
    "    ]\n",
    "    \n",
    "    # for each subsample, and each ensemble, evaluate and set accuracy scores\n",
    "    for name, clf in ensemble_clfs:\n",
    "        scores = eval_classifier_sampling(clf, X, y, subsample_ratios)\n",
    "        accuracies[name].append(scores.mean())\n",
    "        print(f\"{name}: {scores.mean():.2f} {chr(177)}{scores.std():.3f}\")\n",
    "\n",
    "    scores_regular_dt = eval_classifier_sampling([DecisionTreeClassifier(max_depth=5, max_features=5)], X, y, subsample_ratios)\n",
    "    accuracies_regular_dt.append(scores_regular_dt.mean())\n",
    "    print(f\"Regular Decision Tree: {scores_regular_dt.mean():.2f} {chr(177)}{scores_regular_dt.std():.3f}\")\n",
    "    print('----------------')\n",
    "\n",
    "\n",
    "\n",
    "# Plot the accuracy scores for the ensembles\n",
    "for name, accuracies in accuracies.items():\n",
    "    if len(accuracies) != 0:\n",
    "        plt.plot(subsample_ratios, accuracies, label=name)\n",
    "\n",
    "# Plot the accuracy scores for the normal decision tree\n",
    "plt.plot(subsample_ratios, accuracies_regular_dt, label=\"Regular Decision Tree\")\n",
    "\n",
    "plt.xlabel('Subsample Ratio')\n",
    "plt.ylabel('Accuracy')\n",
    "plt.legend()\n",
    "plt.show()"
   ]
  }
 ],
 "metadata": {
  "kernelspec": {
   "display_name": "Python 3 (ipykernel)",
   "language": "python",
   "name": "python3"
  },
  "language_info": {
   "codemirror_mode": {
    "name": "ipython",
    "version": 3
   },
   "file_extension": ".py",
   "mimetype": "text/x-python",
   "name": "python",
   "nbconvert_exporter": "python",
   "pygments_lexer": "ipython3",
   "version": "3.11.3"
  }
 },
 "nbformat": 4,
 "nbformat_minor": 5
}
