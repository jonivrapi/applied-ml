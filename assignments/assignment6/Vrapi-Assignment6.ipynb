{
 "cells": [
  {
   "cell_type": "markdown",
   "id": "5e672db8",
   "metadata": {},
   "source": [
    "# Assignment 6"
   ]
  },
  {
   "cell_type": "code",
   "execution_count": 1,
   "id": "2d98af72",
   "metadata": {},
   "outputs": [],
   "source": [
    "%matplotlib inline\n",
    "import matplotlib.pyplot as plt\n",
    "plt.rcParams[\"figure.dpi\"] = 72\n",
    "\n",
    "import numpy as np\n",
    "import pandas as pd\n",
    "import seaborn as sns\n",
    "\n",
    "from sklearn.preprocessing import OrdinalEncoder\n",
    "from sklearn.ensemble import RandomForestClassifier\n",
    "from sklearn.model_selection import train_test_split\n",
    "from sklearn.metrics import accuracy_score\n",
    "from sklearn.linear_model import LinearRegression\n",
    "from sklearn.metrics import mean_squared_error, r2_score, mean_absolute_error"
   ]
  },
  {
   "cell_type": "code",
   "execution_count": 2,
   "id": "428abfe9",
   "metadata": {},
   "outputs": [
    {
     "name": "stdout",
     "output_type": "stream",
     "text": [
      "Number of datapoints: 27820 \n",
      "Number of features: 12\n",
      "\n"
     ]
    },
    {
     "data": {
      "text/html": [
       "<div>\n",
       "<style scoped>\n",
       "    .dataframe tbody tr th:only-of-type {\n",
       "        vertical-align: middle;\n",
       "    }\n",
       "\n",
       "    .dataframe tbody tr th {\n",
       "        vertical-align: top;\n",
       "    }\n",
       "\n",
       "    .dataframe thead th {\n",
       "        text-align: right;\n",
       "    }\n",
       "</style>\n",
       "<table border=\"1\" class=\"dataframe\">\n",
       "  <thead>\n",
       "    <tr style=\"text-align: right;\">\n",
       "      <th></th>\n",
       "      <th>country</th>\n",
       "      <th>year</th>\n",
       "      <th>sex</th>\n",
       "      <th>age</th>\n",
       "      <th>suicides_no</th>\n",
       "      <th>population</th>\n",
       "      <th>suicides/100k pop</th>\n",
       "      <th>country-year</th>\n",
       "      <th>HDI for year</th>\n",
       "      <th>gdp_for_year ($)</th>\n",
       "      <th>gdp_per_capita ($)</th>\n",
       "      <th>generation</th>\n",
       "    </tr>\n",
       "  </thead>\n",
       "  <tbody>\n",
       "    <tr>\n",
       "      <th>0</th>\n",
       "      <td>Albania</td>\n",
       "      <td>1987</td>\n",
       "      <td>male</td>\n",
       "      <td>15-24 years</td>\n",
       "      <td>21</td>\n",
       "      <td>312900</td>\n",
       "      <td>6.71</td>\n",
       "      <td>Albania1987</td>\n",
       "      <td>NaN</td>\n",
       "      <td>2,156,624,900</td>\n",
       "      <td>796</td>\n",
       "      <td>Generation X</td>\n",
       "    </tr>\n",
       "    <tr>\n",
       "      <th>1</th>\n",
       "      <td>Albania</td>\n",
       "      <td>1987</td>\n",
       "      <td>male</td>\n",
       "      <td>35-54 years</td>\n",
       "      <td>16</td>\n",
       "      <td>308000</td>\n",
       "      <td>5.19</td>\n",
       "      <td>Albania1987</td>\n",
       "      <td>NaN</td>\n",
       "      <td>2,156,624,900</td>\n",
       "      <td>796</td>\n",
       "      <td>Silent</td>\n",
       "    </tr>\n",
       "    <tr>\n",
       "      <th>2</th>\n",
       "      <td>Albania</td>\n",
       "      <td>1987</td>\n",
       "      <td>female</td>\n",
       "      <td>15-24 years</td>\n",
       "      <td>14</td>\n",
       "      <td>289700</td>\n",
       "      <td>4.83</td>\n",
       "      <td>Albania1987</td>\n",
       "      <td>NaN</td>\n",
       "      <td>2,156,624,900</td>\n",
       "      <td>796</td>\n",
       "      <td>Generation X</td>\n",
       "    </tr>\n",
       "    <tr>\n",
       "      <th>3</th>\n",
       "      <td>Albania</td>\n",
       "      <td>1987</td>\n",
       "      <td>male</td>\n",
       "      <td>75+ years</td>\n",
       "      <td>1</td>\n",
       "      <td>21800</td>\n",
       "      <td>4.59</td>\n",
       "      <td>Albania1987</td>\n",
       "      <td>NaN</td>\n",
       "      <td>2,156,624,900</td>\n",
       "      <td>796</td>\n",
       "      <td>G.I. Generation</td>\n",
       "    </tr>\n",
       "    <tr>\n",
       "      <th>4</th>\n",
       "      <td>Albania</td>\n",
       "      <td>1987</td>\n",
       "      <td>male</td>\n",
       "      <td>25-34 years</td>\n",
       "      <td>9</td>\n",
       "      <td>274300</td>\n",
       "      <td>3.28</td>\n",
       "      <td>Albania1987</td>\n",
       "      <td>NaN</td>\n",
       "      <td>2,156,624,900</td>\n",
       "      <td>796</td>\n",
       "      <td>Boomers</td>\n",
       "    </tr>\n",
       "  </tbody>\n",
       "</table>\n",
       "</div>"
      ],
      "text/plain": [
       "   country  year     sex          age  suicides_no  population  \\\n",
       "0  Albania  1987    male  15-24 years           21      312900   \n",
       "1  Albania  1987    male  35-54 years           16      308000   \n",
       "2  Albania  1987  female  15-24 years           14      289700   \n",
       "3  Albania  1987    male    75+ years            1       21800   \n",
       "4  Albania  1987    male  25-34 years            9      274300   \n",
       "\n",
       "   suicides/100k pop country-year  HDI for year  gdp_for_year ($)   \\\n",
       "0               6.71  Albania1987           NaN      2,156,624,900   \n",
       "1               5.19  Albania1987           NaN      2,156,624,900   \n",
       "2               4.83  Albania1987           NaN      2,156,624,900   \n",
       "3               4.59  Albania1987           NaN      2,156,624,900   \n",
       "4               3.28  Albania1987           NaN      2,156,624,900   \n",
       "\n",
       "   gdp_per_capita ($)       generation  \n",
       "0                 796     Generation X  \n",
       "1                 796           Silent  \n",
       "2                 796     Generation X  \n",
       "3                 796  G.I. Generation  \n",
       "4                 796          Boomers  "
      ]
     },
     "execution_count": 2,
     "metadata": {},
     "output_type": "execute_result"
    }
   ],
   "source": [
    "df = pd.read_csv('suicide-rates.csv')\n",
    "\n",
    "print(f'Number of datapoints: {len(df)} \\nNumber of features: {len(df.columns)}\\n')\n",
    "\n",
    "df.head()"
   ]
  },
  {
   "cell_type": "markdown",
   "id": "a0426604",
   "metadata": {},
   "source": [
    "# Data Preprocessing"
   ]
  },
  {
   "cell_type": "code",
   "execution_count": 3,
   "id": "c9af0ac5",
   "metadata": {},
   "outputs": [
    {
     "data": {
      "text/plain": [
       "(27820, 11)"
      ]
     },
     "execution_count": 3,
     "metadata": {},
     "output_type": "execute_result"
    }
   ],
   "source": [
    "df = df.drop(['HDI for year'], axis = 1)\n",
    "df.shape"
   ]
  },
  {
   "cell_type": "markdown",
   "id": "5c3df88a",
   "metadata": {},
   "source": [
    "### Question 1"
   ]
  },
  {
   "cell_type": "code",
   "execution_count": 4,
   "id": "c4ca7c25",
   "metadata": {},
   "outputs": [
    {
     "data": {
      "text/html": [
       "<div>\n",
       "<style scoped>\n",
       "    .dataframe tbody tr th:only-of-type {\n",
       "        vertical-align: middle;\n",
       "    }\n",
       "\n",
       "    .dataframe tbody tr th {\n",
       "        vertical-align: top;\n",
       "    }\n",
       "\n",
       "    .dataframe thead th {\n",
       "        text-align: right;\n",
       "    }\n",
       "</style>\n",
       "<table border=\"1\" class=\"dataframe\">\n",
       "  <thead>\n",
       "    <tr style=\"text-align: right;\">\n",
       "      <th></th>\n",
       "      <th>suicides/100k pop</th>\n",
       "      <th>sex_female</th>\n",
       "      <th>sex_male</th>\n",
       "      <th>age_15-24 years</th>\n",
       "      <th>age_25-34 years</th>\n",
       "      <th>age_35-54 years</th>\n",
       "      <th>age_5-14 years</th>\n",
       "      <th>age_55-74 years</th>\n",
       "      <th>age_75+ years</th>\n",
       "      <th>generation_Boomers</th>\n",
       "      <th>generation_G.I. Generation</th>\n",
       "      <th>generation_Generation X</th>\n",
       "      <th>generation_Generation Z</th>\n",
       "      <th>generation_Millenials</th>\n",
       "      <th>generation_Silent</th>\n",
       "    </tr>\n",
       "  </thead>\n",
       "  <tbody>\n",
       "    <tr>\n",
       "      <th>0</th>\n",
       "      <td>6.71</td>\n",
       "      <td>0</td>\n",
       "      <td>1</td>\n",
       "      <td>1</td>\n",
       "      <td>0</td>\n",
       "      <td>0</td>\n",
       "      <td>0</td>\n",
       "      <td>0</td>\n",
       "      <td>0</td>\n",
       "      <td>0</td>\n",
       "      <td>0</td>\n",
       "      <td>1</td>\n",
       "      <td>0</td>\n",
       "      <td>0</td>\n",
       "      <td>0</td>\n",
       "    </tr>\n",
       "    <tr>\n",
       "      <th>1</th>\n",
       "      <td>5.19</td>\n",
       "      <td>0</td>\n",
       "      <td>1</td>\n",
       "      <td>0</td>\n",
       "      <td>0</td>\n",
       "      <td>1</td>\n",
       "      <td>0</td>\n",
       "      <td>0</td>\n",
       "      <td>0</td>\n",
       "      <td>0</td>\n",
       "      <td>0</td>\n",
       "      <td>0</td>\n",
       "      <td>0</td>\n",
       "      <td>0</td>\n",
       "      <td>1</td>\n",
       "    </tr>\n",
       "    <tr>\n",
       "      <th>2</th>\n",
       "      <td>4.83</td>\n",
       "      <td>1</td>\n",
       "      <td>0</td>\n",
       "      <td>1</td>\n",
       "      <td>0</td>\n",
       "      <td>0</td>\n",
       "      <td>0</td>\n",
       "      <td>0</td>\n",
       "      <td>0</td>\n",
       "      <td>0</td>\n",
       "      <td>0</td>\n",
       "      <td>1</td>\n",
       "      <td>0</td>\n",
       "      <td>0</td>\n",
       "      <td>0</td>\n",
       "    </tr>\n",
       "    <tr>\n",
       "      <th>3</th>\n",
       "      <td>4.59</td>\n",
       "      <td>0</td>\n",
       "      <td>1</td>\n",
       "      <td>0</td>\n",
       "      <td>0</td>\n",
       "      <td>0</td>\n",
       "      <td>0</td>\n",
       "      <td>0</td>\n",
       "      <td>1</td>\n",
       "      <td>0</td>\n",
       "      <td>1</td>\n",
       "      <td>0</td>\n",
       "      <td>0</td>\n",
       "      <td>0</td>\n",
       "      <td>0</td>\n",
       "    </tr>\n",
       "    <tr>\n",
       "      <th>4</th>\n",
       "      <td>3.28</td>\n",
       "      <td>0</td>\n",
       "      <td>1</td>\n",
       "      <td>0</td>\n",
       "      <td>1</td>\n",
       "      <td>0</td>\n",
       "      <td>0</td>\n",
       "      <td>0</td>\n",
       "      <td>0</td>\n",
       "      <td>1</td>\n",
       "      <td>0</td>\n",
       "      <td>0</td>\n",
       "      <td>0</td>\n",
       "      <td>0</td>\n",
       "      <td>0</td>\n",
       "    </tr>\n",
       "  </tbody>\n",
       "</table>\n",
       "</div>"
      ],
      "text/plain": [
       "   suicides/100k pop  sex_female  sex_male  age_15-24 years  age_25-34 years  \\\n",
       "0               6.71           0         1                1                0   \n",
       "1               5.19           0         1                0                0   \n",
       "2               4.83           1         0                1                0   \n",
       "3               4.59           0         1                0                0   \n",
       "4               3.28           0         1                0                1   \n",
       "\n",
       "   age_35-54 years  age_5-14 years  age_55-74 years  age_75+ years  \\\n",
       "0                0               0                0              0   \n",
       "1                1               0                0              0   \n",
       "2                0               0                0              0   \n",
       "3                0               0                0              1   \n",
       "4                0               0                0              0   \n",
       "\n",
       "   generation_Boomers  generation_G.I. Generation  generation_Generation X  \\\n",
       "0                   0                           0                        1   \n",
       "1                   0                           0                        0   \n",
       "2                   0                           0                        1   \n",
       "3                   0                           1                        0   \n",
       "4                   1                           0                        0   \n",
       "\n",
       "   generation_Generation Z  generation_Millenials  generation_Silent  \n",
       "0                        0                      0                  0  \n",
       "1                        0                      0                  1  \n",
       "2                        0                      0                  0  \n",
       "3                        0                      0                  0  \n",
       "4                        0                      0                  0  "
      ]
     },
     "execution_count": 4,
     "metadata": {},
     "output_type": "execute_result"
    }
   ],
   "source": [
    "df = df.drop('country', axis=1)\n",
    "df = df.drop('country-year', axis=1)\n",
    "df = df.drop(' gdp_for_year ($) ', axis=1)\n",
    "df = df.drop('population', axis=1)\n",
    "df = df.drop('suicides_no', axis=1)\n",
    "df = df.drop('gdp_per_capita ($)', axis=1)\n",
    "df = df.drop('year', axis=1)\n",
    "\n",
    "df = pd.get_dummies(df, columns=['sex', 'age', 'generation'])\n",
    "\n",
    "df.head()"
   ]
  },
  {
   "cell_type": "code",
   "execution_count": 5,
   "id": "e03fa0ae",
   "metadata": {},
   "outputs": [
    {
     "name": "stdout",
     "output_type": "stream",
     "text": [
      "Mean Squared Error (MSE): 247.46955019583245\n",
      "Mean Absolute Error (MAE): 10.028320733734724\n",
      "R-squared (R2): 0.291849902919579\n",
      "CPU times: user 39.7 ms, sys: 3.11 ms, total: 42.8 ms\n",
      "Wall time: 11.4 ms\n"
     ]
    }
   ],
   "source": [
    "%%time\n",
    "\n",
    "X = df.drop('suicides/100k pop', axis=1)\n",
    "y = df['suicides/100k pop']\n",
    "\n",
    "X_train, X_test, y_train, y_test = train_test_split(X, y, test_size=0.2, random_state=42)\n",
    "\n",
    "model = LinearRegression()\n",
    "model.fit(X_train, y_train)\n",
    "\n",
    "y_pred = model.predict(X_test)\n",
    "\n",
    "\n",
    "mse = mean_squared_error(y_test, y_pred)\n",
    "mae = mean_absolute_error(y_test, y_pred)\n",
    "r2 = r2_score(y_test, y_pred)\n",
    "\n",
    "print(\"Mean Squared Error (MSE):\", mse)\n",
    "print(\"Mean Absolute Error (MAE):\", mae)\n",
    "print(\"R-squared (R2):\", r2)"
   ]
  },
  {
   "cell_type": "code",
   "execution_count": 6,
   "id": "56cf44f3",
   "metadata": {},
   "outputs": [
    {
     "data": {
      "text/html": [
       "<div>\n",
       "<style scoped>\n",
       "    .dataframe tbody tr th:only-of-type {\n",
       "        vertical-align: middle;\n",
       "    }\n",
       "\n",
       "    .dataframe tbody tr th {\n",
       "        vertical-align: top;\n",
       "    }\n",
       "\n",
       "    .dataframe thead th {\n",
       "        text-align: right;\n",
       "    }\n",
       "</style>\n",
       "<table border=\"1\" class=\"dataframe\">\n",
       "  <thead>\n",
       "    <tr style=\"text-align: right;\">\n",
       "      <th></th>\n",
       "      <th>sex_female</th>\n",
       "      <th>sex_male</th>\n",
       "      <th>age_15-24 years</th>\n",
       "      <th>age_25-34 years</th>\n",
       "      <th>age_35-54 years</th>\n",
       "      <th>age_5-14 years</th>\n",
       "      <th>age_55-74 years</th>\n",
       "      <th>age_75+ years</th>\n",
       "      <th>generation_Boomers</th>\n",
       "      <th>generation_G.I. Generation</th>\n",
       "      <th>generation_Generation X</th>\n",
       "      <th>generation_Generation Z</th>\n",
       "      <th>generation_Millenials</th>\n",
       "      <th>generation_Silent</th>\n",
       "    </tr>\n",
       "  </thead>\n",
       "  <tbody>\n",
       "    <tr>\n",
       "      <th>0</th>\n",
       "      <td>0</td>\n",
       "      <td>1</td>\n",
       "      <td>1</td>\n",
       "      <td>0</td>\n",
       "      <td>0</td>\n",
       "      <td>0</td>\n",
       "      <td>0</td>\n",
       "      <td>0</td>\n",
       "      <td>0</td>\n",
       "      <td>0</td>\n",
       "      <td>1</td>\n",
       "      <td>0</td>\n",
       "      <td>0</td>\n",
       "      <td>0</td>\n",
       "    </tr>\n",
       "  </tbody>\n",
       "</table>\n",
       "</div>"
      ],
      "text/plain": [
       "   sex_female  sex_male  age_15-24 years  age_25-34 years  age_35-54 years  \\\n",
       "0           0         1                1                0                0   \n",
       "\n",
       "   age_5-14 years  age_55-74 years  age_75+ years  generation_Boomers  \\\n",
       "0               0                0              0                   0   \n",
       "\n",
       "   generation_G.I. Generation  generation_Generation X  \\\n",
       "0                           0                        1   \n",
       "\n",
       "   generation_Generation Z  generation_Millenials  generation_Silent  \n",
       "0                        0                      0                  0  "
      ]
     },
     "execution_count": 6,
     "metadata": {},
     "output_type": "execute_result"
    }
   ],
   "source": [
    "prediction_df = pd.DataFrame(data={\n",
    "    'sex_female': [0],\n",
    "    'sex_male': [1],\n",
    "    'age_15-24 years': [1],\n",
    "    'age_25-34 years': [0],\n",
    "    'age_35-54 years': [0],\n",
    "    'age_5-14 years': [0],\n",
    "    'age_55-74 years': [0],\n",
    "    'age_75+ years': [0],\n",
    "    'generation_Boomers': [0],\n",
    "    'generation_G.I. Generation': [0],\n",
    "    'generation_Generation X': [1],\n",
    "    'generation_Generation Z': [0],\n",
    "    'generation_Millenials': [0],\n",
    "    'generation_Silent': [0]\n",
    "})\n",
    "\n",
    "prediction_df.head()"
   ]
  },
  {
   "cell_type": "markdown",
   "id": "2ee8b501",
   "metadata": {},
   "source": [
    "We now need to encode the nominal data, of which we have sex, age, and generation. Generation and age, however, are ordinal values so those have to be encoded differently."
   ]
  },
  {
   "cell_type": "code",
   "execution_count": 7,
   "id": "a4e88b2d",
   "metadata": {
    "scrolled": false
   },
   "outputs": [
    {
     "name": "stdout",
     "output_type": "stream",
     "text": [
      "model prediction: [16.72265625]\n"
     ]
    }
   ],
   "source": [
    "y_pred_q1 = model.predict(prediction_df)\n",
    "print(f'model prediction: {y_pred_q1}')"
   ]
  },
  {
   "cell_type": "code",
   "execution_count": 8,
   "id": "3173cf9c",
   "metadata": {},
   "outputs": [
    {
     "name": "stdout",
     "output_type": "stream",
     "text": [
      "[-1.10438101e+13 -1.10438101e+13 -6.69736127e+11 -6.69736127e+11\n",
      " -6.69736127e+11 -6.69736127e+11 -6.69736127e+11 -6.69736127e+11\n",
      " -6.28554032e+10 -6.28554032e+10 -6.28554032e+10 -6.28554032e+10\n",
      " -6.28554032e+10 -6.28554032e+10]\n"
     ]
    }
   ],
   "source": [
    "print(model.coef_)"
   ]
  },
  {
   "cell_type": "markdown",
   "id": "bdeb7144",
   "metadata": {},
   "source": [
    "There are 14 coefficients -- one for each feature I used to fit the model (because they were one-hot encoded)."
   ]
  },
  {
   "cell_type": "markdown",
   "id": "ca41bda6",
   "metadata": {},
   "source": [
    "### Question 2"
   ]
  },
  {
   "cell_type": "code",
   "execution_count": 9,
   "id": "0db16ce8",
   "metadata": {},
   "outputs": [
    {
     "data": {
      "text/html": [
       "<div>\n",
       "<style scoped>\n",
       "    .dataframe tbody tr th:only-of-type {\n",
       "        vertical-align: middle;\n",
       "    }\n",
       "\n",
       "    .dataframe tbody tr th {\n",
       "        vertical-align: top;\n",
       "    }\n",
       "\n",
       "    .dataframe thead th {\n",
       "        text-align: right;\n",
       "    }\n",
       "</style>\n",
       "<table border=\"1\" class=\"dataframe\">\n",
       "  <thead>\n",
       "    <tr style=\"text-align: right;\">\n",
       "      <th></th>\n",
       "      <th>age</th>\n",
       "      <th>suicides/100k pop</th>\n",
       "      <th>generation</th>\n",
       "      <th>sex_female</th>\n",
       "      <th>sex_male</th>\n",
       "    </tr>\n",
       "  </thead>\n",
       "  <tbody>\n",
       "    <tr>\n",
       "      <th>0</th>\n",
       "      <td>1.0</td>\n",
       "      <td>6.71</td>\n",
       "      <td>3.0</td>\n",
       "      <td>0</td>\n",
       "      <td>1</td>\n",
       "    </tr>\n",
       "    <tr>\n",
       "      <th>1</th>\n",
       "      <td>3.0</td>\n",
       "      <td>5.19</td>\n",
       "      <td>1.0</td>\n",
       "      <td>0</td>\n",
       "      <td>1</td>\n",
       "    </tr>\n",
       "    <tr>\n",
       "      <th>2</th>\n",
       "      <td>1.0</td>\n",
       "      <td>4.83</td>\n",
       "      <td>3.0</td>\n",
       "      <td>1</td>\n",
       "      <td>0</td>\n",
       "    </tr>\n",
       "    <tr>\n",
       "      <th>3</th>\n",
       "      <td>5.0</td>\n",
       "      <td>4.59</td>\n",
       "      <td>0.0</td>\n",
       "      <td>0</td>\n",
       "      <td>1</td>\n",
       "    </tr>\n",
       "    <tr>\n",
       "      <th>4</th>\n",
       "      <td>2.0</td>\n",
       "      <td>3.28</td>\n",
       "      <td>2.0</td>\n",
       "      <td>0</td>\n",
       "      <td>1</td>\n",
       "    </tr>\n",
       "  </tbody>\n",
       "</table>\n",
       "</div>"
      ],
      "text/plain": [
       "   age  suicides/100k pop  generation  sex_female  sex_male\n",
       "0  1.0               6.71         3.0           0         1\n",
       "1  3.0               5.19         1.0           0         1\n",
       "2  1.0               4.83         3.0           1         0\n",
       "3  5.0               4.59         0.0           0         1\n",
       "4  2.0               3.28         2.0           0         1"
      ]
     },
     "execution_count": 9,
     "metadata": {},
     "output_type": "execute_result"
    }
   ],
   "source": [
    "df2 = pd.read_csv('suicide-rates.csv')\n",
    "df2 = df2.drop('country', axis=1)\n",
    "df2 = df2.drop('country-year', axis=1)\n",
    "df2 = df2.drop(' gdp_for_year ($) ', axis=1)\n",
    "df2 = df2.drop('population', axis=1)\n",
    "df2 = df2.drop('suicides_no', axis=1)\n",
    "df2 = df2.drop('HDI for year', axis=1)\n",
    "df2 = df2.drop('gdp_per_capita ($)', axis=1)\n",
    "df2 = df2.drop('year', axis=1)\n",
    "\n",
    "age_order = ['5-14 years', '15-24 years', '25-34 years', '35-54 years', '55-74 years', '75+ years']\n",
    "generation_order = ['G.I. Generation', 'Silent', 'Boomers', 'Generation X', 'Millenials', 'Generation Z']\n",
    "\n",
    "df2['age'] = OrdinalEncoder(categories=[age_order]).fit_transform(df2[['age']])\n",
    "df2['generation'] = OrdinalEncoder(categories=[generation_order]).fit_transform(df2[['generation']])\n",
    "\n",
    "# Since this is not ordinal, we need to one-hot encode\n",
    "df2 = pd.get_dummies(df2, columns=['sex'])\n",
    "\n",
    "df2.head()"
   ]
  },
  {
   "cell_type": "code",
   "execution_count": 10,
   "id": "32a07469",
   "metadata": {},
   "outputs": [
    {
     "name": "stdout",
     "output_type": "stream",
     "text": [
      "Mean Squared Error (MSE): 250.64226684249996\n",
      "Mean Absolute Error (MAE): 10.180977152228612\n",
      "R-squared (R2): 0.2827709693717211\n",
      "CPU times: user 49.1 ms, sys: 23.5 ms, total: 72.6 ms\n",
      "Wall time: 8.8 ms\n"
     ]
    }
   ],
   "source": [
    "%%time\n",
    "\n",
    "X = df2.drop('suicides/100k pop', axis=1)\n",
    "y = df2['suicides/100k pop']\n",
    "\n",
    "X_train, X_test, y_train, y_test = train_test_split(X, y, test_size=0.2, random_state=42)\n",
    "\n",
    "model = LinearRegression()\n",
    "model.fit(X_train, y_train)\n",
    "\n",
    "y_pred = model.predict(X_test)\n",
    "\n",
    "mse = mean_squared_error(y_test, y_pred)\n",
    "mae = mean_absolute_error(y_test, y_pred)\n",
    "r2 = r2_score(y_test, y_pred)\n",
    "\n",
    "print(\"Mean Squared Error (MSE):\", mse)\n",
    "print(\"Mean Absolute Error (MAE):\", mae)\n",
    "print(\"R-squared (R2):\", r2)"
   ]
  },
  {
   "cell_type": "code",
   "execution_count": 11,
   "id": "44d68cca",
   "metadata": {},
   "outputs": [
    {
     "data": {
      "text/html": [
       "<div>\n",
       "<style scoped>\n",
       "    .dataframe tbody tr th:only-of-type {\n",
       "        vertical-align: middle;\n",
       "    }\n",
       "\n",
       "    .dataframe tbody tr th {\n",
       "        vertical-align: top;\n",
       "    }\n",
       "\n",
       "    .dataframe thead th {\n",
       "        text-align: right;\n",
       "    }\n",
       "</style>\n",
       "<table border=\"1\" class=\"dataframe\">\n",
       "  <thead>\n",
       "    <tr style=\"text-align: right;\">\n",
       "      <th></th>\n",
       "      <th>age</th>\n",
       "      <th>generation</th>\n",
       "      <th>sex_female</th>\n",
       "      <th>sex_male</th>\n",
       "    </tr>\n",
       "  </thead>\n",
       "  <tbody>\n",
       "    <tr>\n",
       "      <th>0</th>\n",
       "      <td>1.0</td>\n",
       "      <td>3.0</td>\n",
       "      <td>0</td>\n",
       "      <td>1</td>\n",
       "    </tr>\n",
       "  </tbody>\n",
       "</table>\n",
       "</div>"
      ],
      "text/plain": [
       "   age  generation  sex_female  sex_male\n",
       "0  1.0         3.0           0         1"
      ]
     },
     "execution_count": 11,
     "metadata": {},
     "output_type": "execute_result"
    }
   ],
   "source": [
    "prediction_df2 = pd.DataFrame(data={\n",
    "    'age': [1.0],\n",
    "    'generation': [3.0],\n",
    "    'sex_female': [0],\n",
    "    'sex_male': [1]\n",
    "})\n",
    "\n",
    "prediction_df2.head()"
   ]
  },
  {
   "cell_type": "code",
   "execution_count": 12,
   "id": "24c7ff79",
   "metadata": {},
   "outputs": [
    {
     "name": "stdout",
     "output_type": "stream",
     "text": [
      "model prediction: [14.41992188]\n"
     ]
    }
   ],
   "source": [
    "y_pred_q2 = model.predict(prediction_df2)\n",
    "print(f'model prediction: {y_pred_q2}')"
   ]
  },
  {
   "cell_type": "code",
   "execution_count": 13,
   "id": "a43d7d20",
   "metadata": {},
   "outputs": [
    {
     "name": "stdout",
     "output_type": "stream",
     "text": [
      "[ 3.75274647e+00 -4.02616116e-01  1.56169525e+13  1.56169525e+13]\n"
     ]
    }
   ],
   "source": [
    "print(model.coef_)"
   ]
  },
  {
   "cell_type": "markdown",
   "id": "6002196f",
   "metadata": {},
   "source": [
    "There are 4 coefficients -- one for each feature I used to fit the model."
   ]
  },
  {
   "cell_type": "markdown",
   "id": "b4f32369",
   "metadata": {},
   "source": [
    "### Question 3\n",
    "\n",
    "Yes, there was a change in the model performance. The one-hot encoded model predicted a 16.72265625 suicide rate while the numerically encoded one predicted a 14.41992188 suicide rate. The numerically encoded model also ran approximately twice as fast as the one-hot encoded model."
   ]
  },
  {
   "cell_type": "markdown",
   "id": "538db481",
   "metadata": {},
   "source": [
    "### Question 4"
   ]
  },
  {
   "cell_type": "code",
   "execution_count": 14,
   "id": "9e71afc0",
   "metadata": {},
   "outputs": [
    {
     "data": {
      "text/html": [
       "<div>\n",
       "<style scoped>\n",
       "    .dataframe tbody tr th:only-of-type {\n",
       "        vertical-align: middle;\n",
       "    }\n",
       "\n",
       "    .dataframe tbody tr th {\n",
       "        vertical-align: top;\n",
       "    }\n",
       "\n",
       "    .dataframe thead th {\n",
       "        text-align: right;\n",
       "    }\n",
       "</style>\n",
       "<table border=\"1\" class=\"dataframe\">\n",
       "  <thead>\n",
       "    <tr style=\"text-align: right;\">\n",
       "      <th></th>\n",
       "      <th>age</th>\n",
       "      <th>generation</th>\n",
       "      <th>sex_female</th>\n",
       "      <th>sex_male</th>\n",
       "    </tr>\n",
       "  </thead>\n",
       "  <tbody>\n",
       "    <tr>\n",
       "      <th>0</th>\n",
       "      <td>2.0</td>\n",
       "      <td>6.0</td>\n",
       "      <td>0</td>\n",
       "      <td>1</td>\n",
       "    </tr>\n",
       "  </tbody>\n",
       "</table>\n",
       "</div>"
      ],
      "text/plain": [
       "   age  generation  sex_female  sex_male\n",
       "0  2.0         6.0           0         1"
      ]
     },
     "execution_count": 14,
     "metadata": {},
     "output_type": "execute_result"
    }
   ],
   "source": [
    "prediction_df3 = pd.DataFrame(data={\n",
    "    'age': [2.0],\n",
    "    'generation': [6.0],\n",
    "    'sex_female': [0],\n",
    "    'sex_male': [1]\n",
    "})\n",
    "\n",
    "prediction_df3.head()"
   ]
  },
  {
   "cell_type": "code",
   "execution_count": 15,
   "id": "a0f15b13",
   "metadata": {},
   "outputs": [
    {
     "name": "stdout",
     "output_type": "stream",
     "text": [
      "model prediction: [16.96484375]\n"
     ]
    }
   ],
   "source": [
    "y_pred_q4 = model.predict(prediction_df3)\n",
    "print(f'model prediction: {y_pred_q4}')"
   ]
  },
  {
   "cell_type": "markdown",
   "id": "e7f74574",
   "metadata": {},
   "source": [
    "### Question 5"
   ]
  },
  {
   "cell_type": "markdown",
   "id": "670b11e3",
   "metadata": {},
   "source": [
    "One advantage of regression over classification with nominal features is its ability to handle a wider range of independent variables, such as continuous, discrete, and ordinal variables. This allows you to include variables like age, income, temperature, time, or any other measurable quantity. Classification, on the other hand, typically deals only with categorical variables. While there are ways to handle nominal features, like one-hot encoding for example, analysis is generally limited to the presence or absence of a particular category, rather than considering the precise numeric relationship or magnitude of the feature."
   ]
  },
  {
   "cell_type": "markdown",
   "id": "466b628a",
   "metadata": {},
   "source": [
    "### Question 6"
   ]
  },
  {
   "cell_type": "markdown",
   "id": "fceedab2",
   "metadata": {},
   "source": [
    "For starters, regression will predict values outside the range [0, 1]. But, going further than that, since regression is able to predict discrete variables, numerical encoding will allow you to preserve the inherent order and magnitute of your feature variables, which will allow it to more aptly capture the relationships and patterns in your data."
   ]
  },
  {
   "cell_type": "markdown",
   "id": "f3a0cbf6",
   "metadata": {},
   "source": [
    "### Question 7"
   ]
  },
  {
   "cell_type": "markdown",
   "id": "31727827",
   "metadata": {},
   "source": [
    "I would say definitely the regression model in this case. The reason being that in the previous assignment we created a derived column of low/high suicide rate in order to turn this into a binary classification problem. That low/high suicide rate is basically useless, in my opinion, as it does not provide much information in the context of this problem.\n",
    "\n",
    "If my customer was some kind of organization which was trying to reduce global suicide rates, the most valuable information to them would be a prediction of what the suicide rate is going to be, not whether it was \"high\" or \"low\".\n",
    "\n",
    "Furthermore, lets assume that this organization was implementing various strategies to reduce the suicide rate. If we went with a classification model, the only feedback they would recieve as to if their actions were having the desired effect is when their cumulative actions exceeded the threshold for the low/high suicide rate. This means they could potentially waste a lot of effort doing the wrong things before they got feedback in the form of a positive confirmation."
   ]
  }
 ],
 "metadata": {
  "kernelspec": {
   "display_name": "Python 3 (ipykernel)",
   "language": "python",
   "name": "python3"
  },
  "language_info": {
   "codemirror_mode": {
    "name": "ipython",
    "version": 3
   },
   "file_extension": ".py",
   "mimetype": "text/x-python",
   "name": "python",
   "nbconvert_exporter": "python",
   "pygments_lexer": "ipython3",
   "version": "3.11.3"
  }
 },
 "nbformat": 4,
 "nbformat_minor": 5
}
